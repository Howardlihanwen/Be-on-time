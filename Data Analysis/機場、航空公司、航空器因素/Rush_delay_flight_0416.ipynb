{
 "cells": [
  {
   "cell_type": "markdown",
   "id": "03086b89-abe7-4da3-b0d2-036e71b9b8a3",
   "metadata": {
    "tags": []
   },
   "source": [
    "## 匯入所需套件"
   ]
  },
  {
   "cell_type": "code",
   "execution_count": 1,
   "id": "fa6a959f-3eb9-4380-999b-ecb203169dd5",
   "metadata": {},
   "outputs": [],
   "source": [
    "import pandas as pd\n",
    "import numpy as np\n",
    "# import matplotlib_inline as plt\n",
    "import matplotlib.pyplot as plt\n",
    "import seaborn as sns\n",
    "import os\n",
    "from sklearn.preprocessing import StandardScaler\n",
    "sns.set_palette('pastel')\n",
    "# sns.set_palette('husl',3)\n",
    "sns.set_style('darkgrid')\n",
    "# sns.set_style('whitegrid')\n",
    "%config inlineBackend.figure_format = 'retina'"
   ]
  },
  {
   "cell_type": "markdown",
   "id": "1f055f6e-605d-41fe-acc3-95426c94569c",
   "metadata": {
    "tags": []
   },
   "source": [
    "## 讀進航班母檔"
   ]
  },
  {
   "cell_type": "code",
   "execution_count": 20,
   "id": "060c4a4d-ac45-4ff4-acd8-9fd5c9f8ca65",
   "metadata": {},
   "outputs": [],
   "source": [
    "EDA_pt = pd.read_csv('../US_1722_flights_info_IQR.csv', usecols=['actu_duration','delay_duration','delay_dest','delay_depa'])"
   ]
  },
  {
   "cell_type": "code",
   "execution_count": 21,
   "id": "6988e00e-11e8-469d-905f-b6c4aa1f1011",
   "metadata": {},
   "outputs": [
    {
     "data": {
      "text/plain": [
       "(29881671, 4)"
      ]
     },
     "execution_count": 21,
     "metadata": {},
     "output_type": "execute_result"
    }
   ],
   "source": [
    "EDA_pt.shape"
   ]
  },
  {
   "cell_type": "code",
   "execution_count": 22,
   "id": "4c1587ed-a2c7-4d64-af48-7c3c0ca31748",
   "metadata": {
    "tags": []
   },
   "outputs": [
    {
     "data": {
      "text/plain": [
       "actu_duration     0\n",
       "delay_depa        0\n",
       "delay_duration    0\n",
       "delay_dest        0\n",
       "dtype: int64"
      ]
     },
     "execution_count": 22,
     "metadata": {},
     "output_type": "execute_result"
    }
   ],
   "source": [
    "EDA_pt.isna().sum()"
   ]
  },
  {
   "cell_type": "markdown",
   "id": "d6c227f5-285c-4e1f-af26-f15c23e78ba7",
   "metadata": {
    "tags": []
   },
   "source": [
    "## 把delay分級距"
   ]
  },
  {
   "cell_type": "code",
   "execution_count": 23,
   "id": "d61ea4b6-a88b-4aa0-a5bb-49f59a2553e5",
   "metadata": {},
   "outputs": [],
   "source": [
    "## 把delay分級級距\n",
    "bins = [-np.inf, 5, 10, 15, 20, 25, 30, np.inf]\n",
    "EDA_pt['delay_depa_cate'] = pd.cut(EDA_pt['delay_depa'], bins=bins, labels=[0, 1, 2, 3, 4, 5, 6])"
   ]
  },
  {
   "cell_type": "code",
   "execution_count": 24,
   "id": "56d5d1de-52d9-4207-b5ee-f98d141928e7",
   "metadata": {},
   "outputs": [],
   "source": [
    "## 把delay分級級距\n",
    "# bins = [-np.inf, 1, 15, 30, 45, 60, 75, 90, 105, 120,135,150,165,180,np.inf]\n",
    "# EDA_pt['delay_depa_cate'] = pd.cut(EDA_pt['delay_depa'], bins=bins, labels=[0, 1,2, 3, 4, 5, 6, 7,8,9,10,11,12,13])"
   ]
  },
  {
   "cell_type": "code",
   "execution_count": 25,
   "id": "fa62e4ea-b577-4358-a5e5-e2ef366d11a8",
   "metadata": {},
   "outputs": [
    {
     "data": {
      "text/plain": [
       "0    25842309\n",
       "1     1669443\n",
       "2     1146116\n",
       "3      831524\n",
       "4      392279\n",
       "5           0\n",
       "6           0\n",
       "Name: delay_depa_cate, dtype: int64"
      ]
     },
     "execution_count": 25,
     "metadata": {},
     "output_type": "execute_result"
    }
   ],
   "source": [
    "EDA_pt['delay_depa_cate'].value_counts()"
   ]
  },
  {
   "cell_type": "code",
   "execution_count": 14,
   "id": "eccf43be-f379-4b13-b809-7ba887af3840",
   "metadata": {
    "tags": []
   },
   "outputs": [
    {
     "data": {
      "image/png": "[encoded data removed]",
      "text/plain": [
       "<Figure size 640x480 with 1 Axes>"
      ]
     },
     "metadata": {},
     "output_type": "display_data"
    }
   ],
   "source": [
    "sns.histplot(data=EDA_pt[['delay_depa_cate']], x=\"delay_depa_cate\" )\n",
    "plt.show()"
   ]
  },
  {
   "cell_type": "markdown",
   "id": "18283998-c25e-4277-95b5-56cab2c9b639",
   "metadata": {
    "tags": []
   },
   "source": [
    "## 取得出勤航班 以及當中有延誤出發的航班"
   ]
  },
  {
   "cell_type": "code",
   "execution_count": 26,
   "id": "fed48650-a614-424c-b559-f4dc4327ef07",
   "metadata": {},
   "outputs": [
    {
     "data": {
      "text/plain": [
       "(29881671, 5)"
      ]
     },
     "execution_count": 26,
     "metadata": {},
     "output_type": "execute_result"
    }
   ],
   "source": [
    "## 取得出勤航班\n",
    "#篩掉取消航班，留下真的有飛的航班\n",
    "# EDA_pt_act=EDA_pt[EDA_pt['actu_depa_hr'] + EDA_pt['actu_depa_min']  +  EDA_pt['actu_duration'] != 0]\n",
    "total_flight = EDA_pt[EDA_pt['actu_duration'] != 0]\n",
    "total_flight.shape"
   ]
  },
  {
   "cell_type": "code",
   "execution_count": 27,
   "id": "6caf6f78-8fc7-4a45-a91a-2d4293f27674",
   "metadata": {
    "tags": []
   },
   "outputs": [
    {
     "data": {
      "text/html": [
       "<div>\n",
       "<style scoped>\n",
       "    .dataframe tbody tr th:only-of-type {\n",
       "        vertical-align: middle;\n",
       "    }\n",
       "\n",
       "    .dataframe tbody tr th {\n",
       "        vertical-align: top;\n",
       "    }\n",
       "\n",
       "    .dataframe thead th {\n",
       "        text-align: right;\n",
       "    }\n",
       "</style>\n",
       "<table border=\"1\" class=\"dataframe\">\n",
       "  <thead>\n",
       "    <tr style=\"text-align: right;\">\n",
       "      <th></th>\n",
       "      <th>actu_duration</th>\n",
       "      <th>delay_depa</th>\n",
       "      <th>delay_duration</th>\n",
       "      <th>delay_dest</th>\n",
       "      <th>delay_depa_cate</th>\n",
       "    </tr>\n",
       "  </thead>\n",
       "  <tbody>\n",
       "    <tr>\n",
       "      <th>26</th>\n",
       "      <td>118.0</td>\n",
       "      <td>17.0</td>\n",
       "      <td>-18.0</td>\n",
       "      <td>-1.0</td>\n",
       "      <td>3</td>\n",
       "    </tr>\n",
       "    <tr>\n",
       "      <th>45</th>\n",
       "      <td>144.0</td>\n",
       "      <td>17.0</td>\n",
       "      <td>9.0</td>\n",
       "      <td>26.0</td>\n",
       "      <td>3</td>\n",
       "    </tr>\n",
       "    <tr>\n",
       "      <th>48</th>\n",
       "      <td>133.0</td>\n",
       "      <td>6.0</td>\n",
       "      <td>-2.0</td>\n",
       "      <td>4.0</td>\n",
       "      <td>1</td>\n",
       "    </tr>\n",
       "    <tr>\n",
       "      <th>58</th>\n",
       "      <td>142.0</td>\n",
       "      <td>16.0</td>\n",
       "      <td>12.0</td>\n",
       "      <td>28.0</td>\n",
       "      <td>3</td>\n",
       "    </tr>\n",
       "    <tr>\n",
       "      <th>62</th>\n",
       "      <td>137.0</td>\n",
       "      <td>13.0</td>\n",
       "      <td>7.0</td>\n",
       "      <td>20.0</td>\n",
       "      <td>2</td>\n",
       "    </tr>\n",
       "    <tr>\n",
       "      <th>...</th>\n",
       "      <td>...</td>\n",
       "      <td>...</td>\n",
       "      <td>...</td>\n",
       "      <td>...</td>\n",
       "      <td>...</td>\n",
       "    </tr>\n",
       "    <tr>\n",
       "      <th>29881593</th>\n",
       "      <td>52.0</td>\n",
       "      <td>21.0</td>\n",
       "      <td>-5.0</td>\n",
       "      <td>16.0</td>\n",
       "      <td>4</td>\n",
       "    </tr>\n",
       "    <tr>\n",
       "      <th>29881615</th>\n",
       "      <td>70.0</td>\n",
       "      <td>6.0</td>\n",
       "      <td>12.0</td>\n",
       "      <td>18.0</td>\n",
       "      <td>1</td>\n",
       "    </tr>\n",
       "    <tr>\n",
       "      <th>29881622</th>\n",
       "      <td>51.0</td>\n",
       "      <td>7.0</td>\n",
       "      <td>-4.0</td>\n",
       "      <td>3.0</td>\n",
       "      <td>1</td>\n",
       "    </tr>\n",
       "    <tr>\n",
       "      <th>29881625</th>\n",
       "      <td>48.0</td>\n",
       "      <td>6.0</td>\n",
       "      <td>-7.0</td>\n",
       "      <td>-1.0</td>\n",
       "      <td>1</td>\n",
       "    </tr>\n",
       "    <tr>\n",
       "      <th>29881667</th>\n",
       "      <td>59.0</td>\n",
       "      <td>10.0</td>\n",
       "      <td>4.0</td>\n",
       "      <td>14.0</td>\n",
       "      <td>1</td>\n",
       "    </tr>\n",
       "  </tbody>\n",
       "</table>\n",
       "<p>4039362 rows × 5 columns</p>\n",
       "</div>"
      ],
      "text/plain": [
       "          actu_duration  delay_depa  delay_duration  delay_dest  \\\n",
       "26                118.0        17.0           -18.0        -1.0   \n",
       "45                144.0        17.0             9.0        26.0   \n",
       "48                133.0         6.0            -2.0         4.0   \n",
       "58                142.0        16.0            12.0        28.0   \n",
       "62                137.0        13.0             7.0        20.0   \n",
       "...                 ...         ...             ...         ...   \n",
       "29881593           52.0        21.0            -5.0        16.0   \n",
       "29881615           70.0         6.0            12.0        18.0   \n",
       "29881622           51.0         7.0            -4.0         3.0   \n",
       "29881625           48.0         6.0            -7.0        -1.0   \n",
       "29881667           59.0        10.0             4.0        14.0   \n",
       "\n",
       "         delay_depa_cate  \n",
       "26                     3  \n",
       "45                     3  \n",
       "48                     1  \n",
       "58                     3  \n",
       "62                     2  \n",
       "...                  ...  \n",
       "29881593               4  \n",
       "29881615               1  \n",
       "29881622               1  \n",
       "29881625               1  \n",
       "29881667               1  \n",
       "\n",
       "[4039362 rows x 5 columns]"
      ]
     },
     "execution_count": 27,
     "metadata": {},
     "output_type": "execute_result"
    }
   ],
   "source": [
    "## 取得delay航班數\n",
    "#先篩選出有delay的出勤航班 再以航班分組\n",
    "# delay_counts = EDA_pt_act.groupby('flight_num')\n",
    "delay_counts = total_flight[total_flight['delay_depa'] > 5]\n",
    "# delay_counts = delay_counts.rbeset_index(drop=False)\n",
    "delay_counts"
   ]
  },
  {
   "cell_type": "markdown",
   "id": "84ad4961-7cce-45ff-8d62-fa92750c26d2",
   "metadata": {
    "tags": []
   },
   "source": [
    "## 取得實際飛航時間與預計飛航時間的差異"
   ]
  },
  {
   "cell_type": "code",
   "execution_count": 28,
   "id": "a26f83a4-adf4-4940-b3f9-93e727b73a53",
   "metadata": {},
   "outputs": [
    {
     "data": {
      "text/html": [
       "<div>\n",
       "<style scoped>\n",
       "    .dataframe tbody tr th:only-of-type {\n",
       "        vertical-align: middle;\n",
       "    }\n",
       "\n",
       "    .dataframe tbody tr th {\n",
       "        vertical-align: top;\n",
       "    }\n",
       "\n",
       "    .dataframe thead th {\n",
       "        text-align: right;\n",
       "    }\n",
       "</style>\n",
       "<table border=\"1\" class=\"dataframe\">\n",
       "  <thead>\n",
       "    <tr style=\"text-align: right;\">\n",
       "      <th></th>\n",
       "      <th>count</th>\n",
       "      <th>mean</th>\n",
       "      <th>std</th>\n",
       "      <th>min</th>\n",
       "      <th>25%</th>\n",
       "      <th>50%</th>\n",
       "      <th>75%</th>\n",
       "      <th>max</th>\n",
       "    </tr>\n",
       "  </thead>\n",
       "  <tbody>\n",
       "    <tr>\n",
       "      <th>delay_duration</th>\n",
       "      <td>4039362.0</td>\n",
       "      <td>-7.138949</td>\n",
       "      <td>10.867253</td>\n",
       "      <td>-69.0</td>\n",
       "      <td>-14.0</td>\n",
       "      <td>-8.0</td>\n",
       "      <td>-1.0</td>\n",
       "      <td>31.0</td>\n",
       "    </tr>\n",
       "  </tbody>\n",
       "</table>\n",
       "</div>"
      ],
      "text/plain": [
       "                    count      mean        std   min   25%  50%  75%   max\n",
       "delay_duration  4039362.0 -7.138949  10.867253 -69.0 -14.0 -8.0 -1.0  31.0"
      ]
     },
     "execution_count": 28,
     "metadata": {},
     "output_type": "execute_result"
    }
   ],
   "source": [
    "delay_counts[['delay_duration']].describe().T"
   ]
  },
  {
   "cell_type": "markdown",
   "id": "02ed8831-44cc-43d8-9485-e311c0b84903",
   "metadata": {
    "tags": []
   },
   "source": [
    "## 把實際飛航時間與預計飛航時間差異 編碼 1 有趕時間(實際比預計小 小於0) 0沒趕時間(實際比預計大 大於0)"
   ]
  },
  {
   "cell_type": "code",
   "execution_count": 29,
   "id": "e3ad6362-e7f5-4bc1-a0f9-8d2ab371ca0a",
   "metadata": {},
   "outputs": [
    {
     "name": "stderr",
     "output_type": "stream",
     "text": [
      "C:\\Users\\terra\\AppData\\Local\\Temp\\ipykernel_17568\\519652522.py:1: SettingWithCopyWarning: \n",
      "A value is trying to be set on a copy of a slice from a DataFrame.\n",
      "Try using .loc[row_indexer,col_indexer] = value instead\n",
      "\n",
      "See the caveats in the documentation: https://pandas.pydata.org/pandas-docs/stable/user_guide/indexing.html#returning-a-view-versus-a-copy\n",
      "  delay_counts['act_sche_diff_cate'] = delay_counts['delay_duration'].apply(lambda x : 0 if x >=0 else 1)\n"
     ]
    },
    {
     "data": {
      "text/plain": [
       "act_sche_diff_cate\n",
       "1                     3056241\n",
       "0                      983121\n",
       "dtype: int64"
      ]
     },
     "execution_count": 29,
     "metadata": {},
     "output_type": "execute_result"
    }
   ],
   "source": [
    "delay_counts['act_sche_diff_cate'] = delay_counts['delay_duration'].apply(lambda x : 0 if x >=0 else 1)\n",
    "delay_counts[['act_sche_diff_cate']].value_counts()"
   ]
  },
  {
   "cell_type": "code",
   "execution_count": 30,
   "id": "bb9be5e9-0352-49ba-b259-b7eef2454a67",
   "metadata": {},
   "outputs": [
    {
     "data": {
      "text/html": [
       "<div>\n",
       "<style scoped>\n",
       "    .dataframe tbody tr th:only-of-type {\n",
       "        vertical-align: middle;\n",
       "    }\n",
       "\n",
       "    .dataframe tbody tr th {\n",
       "        vertical-align: top;\n",
       "    }\n",
       "\n",
       "    .dataframe thead th {\n",
       "        text-align: right;\n",
       "    }\n",
       "</style>\n",
       "<table border=\"1\" class=\"dataframe\">\n",
       "  <thead>\n",
       "    <tr style=\"text-align: right;\">\n",
       "      <th></th>\n",
       "      <th>actu_duration</th>\n",
       "      <th>delay_depa</th>\n",
       "      <th>delay_duration</th>\n",
       "      <th>delay_dest</th>\n",
       "      <th>delay_depa_cate</th>\n",
       "      <th>act_sche_diff_cate</th>\n",
       "    </tr>\n",
       "  </thead>\n",
       "  <tbody>\n",
       "    <tr>\n",
       "      <th>26</th>\n",
       "      <td>118.0</td>\n",
       "      <td>17.0</td>\n",
       "      <td>-18.0</td>\n",
       "      <td>-1.0</td>\n",
       "      <td>3</td>\n",
       "      <td>1</td>\n",
       "    </tr>\n",
       "    <tr>\n",
       "      <th>45</th>\n",
       "      <td>144.0</td>\n",
       "      <td>17.0</td>\n",
       "      <td>9.0</td>\n",
       "      <td>26.0</td>\n",
       "      <td>3</td>\n",
       "      <td>0</td>\n",
       "    </tr>\n",
       "    <tr>\n",
       "      <th>48</th>\n",
       "      <td>133.0</td>\n",
       "      <td>6.0</td>\n",
       "      <td>-2.0</td>\n",
       "      <td>4.0</td>\n",
       "      <td>1</td>\n",
       "      <td>1</td>\n",
       "    </tr>\n",
       "    <tr>\n",
       "      <th>58</th>\n",
       "      <td>142.0</td>\n",
       "      <td>16.0</td>\n",
       "      <td>12.0</td>\n",
       "      <td>28.0</td>\n",
       "      <td>3</td>\n",
       "      <td>0</td>\n",
       "    </tr>\n",
       "    <tr>\n",
       "      <th>62</th>\n",
       "      <td>137.0</td>\n",
       "      <td>13.0</td>\n",
       "      <td>7.0</td>\n",
       "      <td>20.0</td>\n",
       "      <td>2</td>\n",
       "      <td>0</td>\n",
       "    </tr>\n",
       "    <tr>\n",
       "      <th>...</th>\n",
       "      <td>...</td>\n",
       "      <td>...</td>\n",
       "      <td>...</td>\n",
       "      <td>...</td>\n",
       "      <td>...</td>\n",
       "      <td>...</td>\n",
       "    </tr>\n",
       "    <tr>\n",
       "      <th>29881593</th>\n",
       "      <td>52.0</td>\n",
       "      <td>21.0</td>\n",
       "      <td>-5.0</td>\n",
       "      <td>16.0</td>\n",
       "      <td>4</td>\n",
       "      <td>1</td>\n",
       "    </tr>\n",
       "    <tr>\n",
       "      <th>29881615</th>\n",
       "      <td>70.0</td>\n",
       "      <td>6.0</td>\n",
       "      <td>12.0</td>\n",
       "      <td>18.0</td>\n",
       "      <td>1</td>\n",
       "      <td>0</td>\n",
       "    </tr>\n",
       "    <tr>\n",
       "      <th>29881622</th>\n",
       "      <td>51.0</td>\n",
       "      <td>7.0</td>\n",
       "      <td>-4.0</td>\n",
       "      <td>3.0</td>\n",
       "      <td>1</td>\n",
       "      <td>1</td>\n",
       "    </tr>\n",
       "    <tr>\n",
       "      <th>29881625</th>\n",
       "      <td>48.0</td>\n",
       "      <td>6.0</td>\n",
       "      <td>-7.0</td>\n",
       "      <td>-1.0</td>\n",
       "      <td>1</td>\n",
       "      <td>1</td>\n",
       "    </tr>\n",
       "    <tr>\n",
       "      <th>29881667</th>\n",
       "      <td>59.0</td>\n",
       "      <td>10.0</td>\n",
       "      <td>4.0</td>\n",
       "      <td>14.0</td>\n",
       "      <td>1</td>\n",
       "      <td>0</td>\n",
       "    </tr>\n",
       "  </tbody>\n",
       "</table>\n",
       "<p>4039362 rows × 6 columns</p>\n",
       "</div>"
      ],
      "text/plain": [
       "          actu_duration  delay_depa  delay_duration  delay_dest  \\\n",
       "26                118.0        17.0           -18.0        -1.0   \n",
       "45                144.0        17.0             9.0        26.0   \n",
       "48                133.0         6.0            -2.0         4.0   \n",
       "58                142.0        16.0            12.0        28.0   \n",
       "62                137.0        13.0             7.0        20.0   \n",
       "...                 ...         ...             ...         ...   \n",
       "29881593           52.0        21.0            -5.0        16.0   \n",
       "29881615           70.0         6.0            12.0        18.0   \n",
       "29881622           51.0         7.0            -4.0         3.0   \n",
       "29881625           48.0         6.0            -7.0        -1.0   \n",
       "29881667           59.0        10.0             4.0        14.0   \n",
       "\n",
       "         delay_depa_cate  act_sche_diff_cate  \n",
       "26                     3                   1  \n",
       "45                     3                   0  \n",
       "48                     1                   1  \n",
       "58                     3                   0  \n",
       "62                     2                   0  \n",
       "...                  ...                 ...  \n",
       "29881593               4                   1  \n",
       "29881615               1                   0  \n",
       "29881622               1                   1  \n",
       "29881625               1                   1  \n",
       "29881667               1                   0  \n",
       "\n",
       "[4039362 rows x 6 columns]"
      ]
     },
     "execution_count": 30,
     "metadata": {},
     "output_type": "execute_result"
    }
   ],
   "source": [
    "delay_counts"
   ]
  },
  {
   "cell_type": "code",
   "execution_count": 31,
   "id": "d00d7fa3-6328-4fa4-bbe1-484f5acfc473",
   "metadata": {},
   "outputs": [
    {
     "name": "stderr",
     "output_type": "stream",
     "text": [
      "C:\\Users\\terra\\AppData\\Local\\Temp\\ipykernel_17568\\2339416042.py:3: SettingWithCopyWarning: \n",
      "A value is trying to be set on a copy of a slice from a DataFrame.\n",
      "Try using .loc[row_indexer,col_indexer] = value instead\n",
      "\n",
      "See the caveats in the documentation: https://pandas.pydata.org/pandas-docs/stable/user_guide/indexing.html#returning-a-view-versus-a-copy\n",
      "  delay_counts_act_diff['act_sche_diff_cate_1'] =  delay_counts_act_diff['act_sche_diff_cate'].apply(lambda x : 1 if x==1 else 0)\n",
      "C:\\Users\\terra\\AppData\\Local\\Temp\\ipykernel_17568\\2339416042.py:4: SettingWithCopyWarning: \n",
      "A value is trying to be set on a copy of a slice from a DataFrame.\n",
      "Try using .loc[row_indexer,col_indexer] = value instead\n",
      "\n",
      "See the caveats in the documentation: https://pandas.pydata.org/pandas-docs/stable/user_guide/indexing.html#returning-a-view-versus-a-copy\n",
      "  delay_counts_act_diff['act_sche_diff_cate_0'] =  delay_counts_act_diff['act_sche_diff_cate'].apply(lambda x : 0 if x==0 else 1)\n"
     ]
    }
   ],
   "source": [
    "delay_counts_act_diff = delay_counts[['delay_depa_cate','delay_duration','act_sche_diff_cate']]\n",
    "# delay_counts_act_diff = delay_counts_act_diff[delay_counts_act_diff['delay_depa_cate']>0].sort_values('delay_depa_cate')\n",
    "delay_counts_act_diff['act_sche_diff_cate_1'] =  delay_counts_act_diff['act_sche_diff_cate'].apply(lambda x : 1 if x==1 else 0)\n",
    "delay_counts_act_diff['act_sche_diff_cate_0'] =  delay_counts_act_diff['act_sche_diff_cate'].apply(lambda x : 0 if x==0 else 1)\n"
   ]
  },
  {
   "cell_type": "code",
   "execution_count": 32,
   "id": "73909583-ecc8-4310-a470-454c8db1ba35",
   "metadata": {},
   "outputs": [
    {
     "data": {
      "text/html": [
       "<div>\n",
       "<style scoped>\n",
       "    .dataframe tbody tr th:only-of-type {\n",
       "        vertical-align: middle;\n",
       "    }\n",
       "\n",
       "    .dataframe tbody tr th {\n",
       "        vertical-align: top;\n",
       "    }\n",
       "\n",
       "    .dataframe thead th {\n",
       "        text-align: right;\n",
       "    }\n",
       "</style>\n",
       "<table border=\"1\" class=\"dataframe\">\n",
       "  <thead>\n",
       "    <tr style=\"text-align: right;\">\n",
       "      <th></th>\n",
       "      <th>delay_depa_cate</th>\n",
       "      <th>delay_duration</th>\n",
       "      <th>act_sche_diff_cate</th>\n",
       "      <th>act_sche_diff_cate_1</th>\n",
       "      <th>act_sche_diff_cate_0</th>\n",
       "    </tr>\n",
       "  </thead>\n",
       "  <tbody>\n",
       "    <tr>\n",
       "      <th>26</th>\n",
       "      <td>3</td>\n",
       "      <td>-18.0</td>\n",
       "      <td>1</td>\n",
       "      <td>1</td>\n",
       "      <td>1</td>\n",
       "    </tr>\n",
       "    <tr>\n",
       "      <th>45</th>\n",
       "      <td>3</td>\n",
       "      <td>9.0</td>\n",
       "      <td>0</td>\n",
       "      <td>0</td>\n",
       "      <td>0</td>\n",
       "    </tr>\n",
       "    <tr>\n",
       "      <th>48</th>\n",
       "      <td>1</td>\n",
       "      <td>-2.0</td>\n",
       "      <td>1</td>\n",
       "      <td>1</td>\n",
       "      <td>1</td>\n",
       "    </tr>\n",
       "    <tr>\n",
       "      <th>58</th>\n",
       "      <td>3</td>\n",
       "      <td>12.0</td>\n",
       "      <td>0</td>\n",
       "      <td>0</td>\n",
       "      <td>0</td>\n",
       "    </tr>\n",
       "    <tr>\n",
       "      <th>62</th>\n",
       "      <td>2</td>\n",
       "      <td>7.0</td>\n",
       "      <td>0</td>\n",
       "      <td>0</td>\n",
       "      <td>0</td>\n",
       "    </tr>\n",
       "    <tr>\n",
       "      <th>...</th>\n",
       "      <td>...</td>\n",
       "      <td>...</td>\n",
       "      <td>...</td>\n",
       "      <td>...</td>\n",
       "      <td>...</td>\n",
       "    </tr>\n",
       "    <tr>\n",
       "      <th>29881593</th>\n",
       "      <td>4</td>\n",
       "      <td>-5.0</td>\n",
       "      <td>1</td>\n",
       "      <td>1</td>\n",
       "      <td>1</td>\n",
       "    </tr>\n",
       "    <tr>\n",
       "      <th>29881615</th>\n",
       "      <td>1</td>\n",
       "      <td>12.0</td>\n",
       "      <td>0</td>\n",
       "      <td>0</td>\n",
       "      <td>0</td>\n",
       "    </tr>\n",
       "    <tr>\n",
       "      <th>29881622</th>\n",
       "      <td>1</td>\n",
       "      <td>-4.0</td>\n",
       "      <td>1</td>\n",
       "      <td>1</td>\n",
       "      <td>1</td>\n",
       "    </tr>\n",
       "    <tr>\n",
       "      <th>29881625</th>\n",
       "      <td>1</td>\n",
       "      <td>-7.0</td>\n",
       "      <td>1</td>\n",
       "      <td>1</td>\n",
       "      <td>1</td>\n",
       "    </tr>\n",
       "    <tr>\n",
       "      <th>29881667</th>\n",
       "      <td>1</td>\n",
       "      <td>4.0</td>\n",
       "      <td>0</td>\n",
       "      <td>0</td>\n",
       "      <td>0</td>\n",
       "    </tr>\n",
       "  </tbody>\n",
       "</table>\n",
       "<p>4039362 rows × 5 columns</p>\n",
       "</div>"
      ],
      "text/plain": [
       "         delay_depa_cate  delay_duration  act_sche_diff_cate  \\\n",
       "26                     3           -18.0                   1   \n",
       "45                     3             9.0                   0   \n",
       "48                     1            -2.0                   1   \n",
       "58                     3            12.0                   0   \n",
       "62                     2             7.0                   0   \n",
       "...                  ...             ...                 ...   \n",
       "29881593               4            -5.0                   1   \n",
       "29881615               1            12.0                   0   \n",
       "29881622               1            -4.0                   1   \n",
       "29881625               1            -7.0                   1   \n",
       "29881667               1             4.0                   0   \n",
       "\n",
       "          act_sche_diff_cate_1  act_sche_diff_cate_0  \n",
       "26                           1                     1  \n",
       "45                           0                     0  \n",
       "48                           1                     1  \n",
       "58                           0                     0  \n",
       "62                           0                     0  \n",
       "...                        ...                   ...  \n",
       "29881593                     1                     1  \n",
       "29881615                     0                     0  \n",
       "29881622                     1                     1  \n",
       "29881625                     1                     1  \n",
       "29881667                     0                     0  \n",
       "\n",
       "[4039362 rows x 5 columns]"
      ]
     },
     "execution_count": 32,
     "metadata": {},
     "output_type": "execute_result"
    }
   ],
   "source": [
    "delay_counts_act_diff"
   ]
  },
  {
   "cell_type": "code",
   "execution_count": 76,
   "id": "869db713-bc54-43e4-93e8-0c0db065ff11",
   "metadata": {},
   "outputs": [
    {
     "data": {
      "text/html": [
       "<div>\n",
       "<style scoped>\n",
       "    .dataframe tbody tr th:only-of-type {\n",
       "        vertical-align: middle;\n",
       "    }\n",
       "\n",
       "    .dataframe tbody tr th {\n",
       "        vertical-align: top;\n",
       "    }\n",
       "\n",
       "    .dataframe thead th {\n",
       "        text-align: right;\n",
       "    }\n",
       "</style>\n",
       "<table border=\"1\" class=\"dataframe\">\n",
       "  <thead>\n",
       "    <tr style=\"text-align: right;\">\n",
       "      <th></th>\n",
       "      <th></th>\n",
       "      <th>delay_duration</th>\n",
       "      <th>act_sche_diff_cate_1</th>\n",
       "      <th>act_sche_diff_cate_0</th>\n",
       "    </tr>\n",
       "    <tr>\n",
       "      <th>delay_depa_cate</th>\n",
       "      <th>act_sche_diff_cate</th>\n",
       "      <th></th>\n",
       "      <th></th>\n",
       "      <th></th>\n",
       "    </tr>\n",
       "  </thead>\n",
       "  <tbody>\n",
       "    <tr>\n",
       "      <th rowspan=\"2\" valign=\"top\">0</th>\n",
       "      <th>0</th>\n",
       "      <td>0</td>\n",
       "      <td>0</td>\n",
       "      <td>0</td>\n",
       "    </tr>\n",
       "    <tr>\n",
       "      <th>1</th>\n",
       "      <td>0</td>\n",
       "      <td>0</td>\n",
       "      <td>0</td>\n",
       "    </tr>\n",
       "    <tr>\n",
       "      <th rowspan=\"2\" valign=\"top\">1</th>\n",
       "      <th>0</th>\n",
       "      <td>419997</td>\n",
       "      <td>419997</td>\n",
       "      <td>419997</td>\n",
       "    </tr>\n",
       "    <tr>\n",
       "      <th>1</th>\n",
       "      <td>1249446</td>\n",
       "      <td>1249446</td>\n",
       "      <td>1249446</td>\n",
       "    </tr>\n",
       "    <tr>\n",
       "      <th rowspan=\"2\" valign=\"top\">2</th>\n",
       "      <th>0</th>\n",
       "      <td>281315</td>\n",
       "      <td>281315</td>\n",
       "      <td>281315</td>\n",
       "    </tr>\n",
       "    <tr>\n",
       "      <th>1</th>\n",
       "      <td>864801</td>\n",
       "      <td>864801</td>\n",
       "      <td>864801</td>\n",
       "    </tr>\n",
       "    <tr>\n",
       "      <th rowspan=\"2\" valign=\"top\">3</th>\n",
       "      <th>0</th>\n",
       "      <td>195228</td>\n",
       "      <td>195228</td>\n",
       "      <td>195228</td>\n",
       "    </tr>\n",
       "    <tr>\n",
       "      <th>1</th>\n",
       "      <td>636296</td>\n",
       "      <td>636296</td>\n",
       "      <td>636296</td>\n",
       "    </tr>\n",
       "    <tr>\n",
       "      <th rowspan=\"2\" valign=\"top\">4</th>\n",
       "      <th>0</th>\n",
       "      <td>86581</td>\n",
       "      <td>86581</td>\n",
       "      <td>86581</td>\n",
       "    </tr>\n",
       "    <tr>\n",
       "      <th>1</th>\n",
       "      <td>305698</td>\n",
       "      <td>305698</td>\n",
       "      <td>305698</td>\n",
       "    </tr>\n",
       "    <tr>\n",
       "      <th rowspan=\"2\" valign=\"top\">5</th>\n",
       "      <th>0</th>\n",
       "      <td>0</td>\n",
       "      <td>0</td>\n",
       "      <td>0</td>\n",
       "    </tr>\n",
       "    <tr>\n",
       "      <th>1</th>\n",
       "      <td>0</td>\n",
       "      <td>0</td>\n",
       "      <td>0</td>\n",
       "    </tr>\n",
       "    <tr>\n",
       "      <th rowspan=\"2\" valign=\"top\">6</th>\n",
       "      <th>0</th>\n",
       "      <td>0</td>\n",
       "      <td>0</td>\n",
       "      <td>0</td>\n",
       "    </tr>\n",
       "    <tr>\n",
       "      <th>1</th>\n",
       "      <td>0</td>\n",
       "      <td>0</td>\n",
       "      <td>0</td>\n",
       "    </tr>\n",
       "  </tbody>\n",
       "</table>\n",
       "</div>"
      ],
      "text/plain": [
       "                                    delay_duration  act_sche_diff_cate_1  \\\n",
       "delay_depa_cate act_sche_diff_cate                                         \n",
       "0               0                                0                     0   \n",
       "                1                                0                     0   \n",
       "1               0                           419997                419997   \n",
       "                1                          1249446               1249446   \n",
       "2               0                           281315                281315   \n",
       "                1                           864801                864801   \n",
       "3               0                           195228                195228   \n",
       "                1                           636296                636296   \n",
       "4               0                            86581                 86581   \n",
       "                1                           305698                305698   \n",
       "5               0                                0                     0   \n",
       "                1                                0                     0   \n",
       "6               0                                0                     0   \n",
       "                1                                0                     0   \n",
       "\n",
       "                                    act_sche_diff_cate_0  \n",
       "delay_depa_cate act_sche_diff_cate                        \n",
       "0               0                                      0  \n",
       "                1                                      0  \n",
       "1               0                                 419997  \n",
       "                1                                1249446  \n",
       "2               0                                 281315  \n",
       "                1                                 864801  \n",
       "3               0                                 195228  \n",
       "                1                                 636296  \n",
       "4               0                                  86581  \n",
       "                1                                 305698  \n",
       "5               0                                      0  \n",
       "                1                                      0  \n",
       "6               0                                      0  \n",
       "                1                                      0  "
      ]
     },
     "execution_count": 76,
     "metadata": {},
     "output_type": "execute_result"
    }
   ],
   "source": [
    "delay_counts_act_diff_plt = delay_counts_act_diff.groupby(['delay_depa_cate','act_sche_diff_cate']).count()\n",
    "delay_counts_act_diff_plt"
   ]
  },
  {
   "cell_type": "code",
   "execution_count": 77,
   "id": "9c8d0942-0088-4464-937b-ad798d0005ae",
   "metadata": {},
   "outputs": [
    {
     "data": {
      "text/html": [
       "<div>\n",
       "<style scoped>\n",
       "    .dataframe tbody tr th:only-of-type {\n",
       "        vertical-align: middle;\n",
       "    }\n",
       "\n",
       "    .dataframe tbody tr th {\n",
       "        vertical-align: top;\n",
       "    }\n",
       "\n",
       "    .dataframe thead tr th {\n",
       "        text-align: left;\n",
       "    }\n",
       "\n",
       "    .dataframe thead tr:last-of-type th {\n",
       "        text-align: right;\n",
       "    }\n",
       "</style>\n",
       "<table border=\"1\" class=\"dataframe\">\n",
       "  <thead>\n",
       "    <tr>\n",
       "      <th></th>\n",
       "      <th colspan=\"2\" halign=\"left\">delay_duration</th>\n",
       "    </tr>\n",
       "    <tr>\n",
       "      <th>act_sche_diff_cate</th>\n",
       "      <th>0</th>\n",
       "      <th>1</th>\n",
       "    </tr>\n",
       "    <tr>\n",
       "      <th>delay_depa_cate</th>\n",
       "      <th></th>\n",
       "      <th></th>\n",
       "    </tr>\n",
       "  </thead>\n",
       "  <tbody>\n",
       "    <tr>\n",
       "      <th>0</th>\n",
       "      <td>0</td>\n",
       "      <td>0</td>\n",
       "    </tr>\n",
       "    <tr>\n",
       "      <th>1</th>\n",
       "      <td>419997</td>\n",
       "      <td>1249446</td>\n",
       "    </tr>\n",
       "    <tr>\n",
       "      <th>2</th>\n",
       "      <td>281315</td>\n",
       "      <td>864801</td>\n",
       "    </tr>\n",
       "    <tr>\n",
       "      <th>3</th>\n",
       "      <td>195228</td>\n",
       "      <td>636296</td>\n",
       "    </tr>\n",
       "    <tr>\n",
       "      <th>4</th>\n",
       "      <td>86581</td>\n",
       "      <td>305698</td>\n",
       "    </tr>\n",
       "    <tr>\n",
       "      <th>5</th>\n",
       "      <td>0</td>\n",
       "      <td>0</td>\n",
       "    </tr>\n",
       "    <tr>\n",
       "      <th>6</th>\n",
       "      <td>0</td>\n",
       "      <td>0</td>\n",
       "    </tr>\n",
       "  </tbody>\n",
       "</table>\n",
       "</div>"
      ],
      "text/plain": [
       "                   delay_duration         \n",
       "act_sche_diff_cate              0        1\n",
       "delay_depa_cate                           \n",
       "0                               0        0\n",
       "1                          419997  1249446\n",
       "2                          281315   864801\n",
       "3                          195228   636296\n",
       "4                           86581   305698\n",
       "5                               0        0\n",
       "6                               0        0"
      ]
     },
     "execution_count": 77,
     "metadata": {},
     "output_type": "execute_result"
    }
   ],
   "source": [
    "delay_counts_act_diff_plt = delay_counts_act_diff_plt[['delay_duration']]\n",
    "delay_counts_act_diff_plt = delay_counts_act_diff_plt.unstack()\n",
    "# x=['0~15','15~30','30~45','45~60','60~75','75~90','90~105','105~120','120~135','135~150','150~165','165~180','180~']\n",
    "# df = pd.Series(x)\n",
    "# df\n",
    "# delay_counts_act_diff_plt = delay_counts_act_diff_plt.append(df,ignore_index=True)\n",
    "delay_counts_act_diff_plt"
   ]
  },
  {
   "cell_type": "code",
   "execution_count": 67,
   "id": "ff819681-d89a-4048-ac6e-6a6fbd785215",
   "metadata": {},
   "outputs": [
    {
     "data": {
      "text/plain": [
       "MultiIndex([(        'level_0', ''),\n",
       "            (          'index', ''),\n",
       "            ('delay_depa_cate', ''),\n",
       "            ( 'delay_duration',  0),\n",
       "            ( 'delay_duration',  1)],\n",
       "           names=[None, 'act_sche_diff_cate'])"
      ]
     },
     "execution_count": 67,
     "metadata": {},
     "output_type": "execute_result"
    }
   ],
   "source": [
    "delay_counts_act_diff_plt.columns"
   ]
  },
  {
   "cell_type": "code",
   "execution_count": 60,
   "id": "d7e44907-1d62-48f4-a2fa-c892749e4df1",
   "metadata": {},
   "outputs": [
    {
     "data": {
      "text/plain": [
       "                 act_sche_diff_cate\n",
       "level_0                                      0\n",
       "index                                        1\n",
       "delay_depa_cate                              1\n",
       "delay_duration   0                      419997\n",
       "                 1                     1249446\n",
       "Name: 0, dtype: int64"
      ]
     },
     "execution_count": 60,
     "metadata": {},
     "output_type": "execute_result"
    }
   ],
   "source": [
    "delay_counts_act_diff_plt.iloc[0,:]"
   ]
  },
  {
   "cell_type": "code",
   "execution_count": 78,
   "id": "0d7bb234-816d-49f4-b6a1-14f4ddcd7cee",
   "metadata": {
    "tags": []
   },
   "outputs": [
    {
     "data": {
      "text/html": [
       "<div>\n",
       "<style scoped>\n",
       "    .dataframe tbody tr th:only-of-type {\n",
       "        vertical-align: middle;\n",
       "    }\n",
       "\n",
       "    .dataframe tbody tr th {\n",
       "        vertical-align: top;\n",
       "    }\n",
       "\n",
       "    .dataframe thead tr th {\n",
       "        text-align: left;\n",
       "    }\n",
       "</style>\n",
       "<table border=\"1\" class=\"dataframe\">\n",
       "  <thead>\n",
       "    <tr>\n",
       "      <th></th>\n",
       "      <th>delay_depa_cate</th>\n",
       "      <th colspan=\"2\" halign=\"left\">delay_duration</th>\n",
       "    </tr>\n",
       "    <tr>\n",
       "      <th>act_sche_diff_cate</th>\n",
       "      <th></th>\n",
       "      <th>0</th>\n",
       "      <th>1</th>\n",
       "    </tr>\n",
       "  </thead>\n",
       "  <tbody>\n",
       "    <tr>\n",
       "      <th>1</th>\n",
       "      <td>1</td>\n",
       "      <td>419997</td>\n",
       "      <td>1249446</td>\n",
       "    </tr>\n",
       "    <tr>\n",
       "      <th>2</th>\n",
       "      <td>2</td>\n",
       "      <td>281315</td>\n",
       "      <td>864801</td>\n",
       "    </tr>\n",
       "    <tr>\n",
       "      <th>3</th>\n",
       "      <td>3</td>\n",
       "      <td>195228</td>\n",
       "      <td>636296</td>\n",
       "    </tr>\n",
       "    <tr>\n",
       "      <th>4</th>\n",
       "      <td>4</td>\n",
       "      <td>86581</td>\n",
       "      <td>305698</td>\n",
       "    </tr>\n",
       "    <tr>\n",
       "      <th>5</th>\n",
       "      <td>5</td>\n",
       "      <td>0</td>\n",
       "      <td>0</td>\n",
       "    </tr>\n",
       "    <tr>\n",
       "      <th>6</th>\n",
       "      <td>6</td>\n",
       "      <td>0</td>\n",
       "      <td>0</td>\n",
       "    </tr>\n",
       "  </tbody>\n",
       "</table>\n",
       "</div>"
      ],
      "text/plain": [
       "                   delay_depa_cate delay_duration         \n",
       "act_sche_diff_cate                              0        1\n",
       "1                                1         419997  1249446\n",
       "2                                2         281315   864801\n",
       "3                                3         195228   636296\n",
       "4                                4          86581   305698\n",
       "5                                5              0        0\n",
       "6                                6              0        0"
      ]
     },
     "execution_count": 78,
     "metadata": {},
     "output_type": "execute_result"
    }
   ],
   "source": [
    "delay_counts_act_diff_plt = delay_counts_act_diff_plt.reset_index(drop=False)\n",
    "# delay_counts_act_diff_plt = delay_counts_act_diff_plt.drop(delay_counts_act_diff_plt[delay_counts_act_diff_plt[(  'delay_depa_cate',  '')] ==0 ])\n",
    "delay_counts_act_diff_plt = delay_counts_act_diff_plt.drop(delay_counts_act_diff_plt.iloc[0,:] ,axis=0)\n",
    "# delay_counts_act_diff_plt = delay_counts_act_diff_plt.drop(delay_counts_act_diff_plt.iloc[4,:] ,axis=0)\n",
    "delay_counts_act_diff_plt"
   ]
  },
  {
   "cell_type": "code",
   "execution_count": 79,
   "id": "3ee2f775-c8ca-44a6-8122-ac547c580f27",
   "metadata": {},
   "outputs": [
    {
     "data": {
      "text/html": [
       "<div>\n",
       "<style scoped>\n",
       "    .dataframe tbody tr th:only-of-type {\n",
       "        vertical-align: middle;\n",
       "    }\n",
       "\n",
       "    .dataframe tbody tr th {\n",
       "        vertical-align: top;\n",
       "    }\n",
       "\n",
       "    .dataframe thead tr th {\n",
       "        text-align: left;\n",
       "    }\n",
       "</style>\n",
       "<table border=\"1\" class=\"dataframe\">\n",
       "  <thead>\n",
       "    <tr>\n",
       "      <th></th>\n",
       "      <th>delay_depa_cate</th>\n",
       "      <th colspan=\"4\" halign=\"left\">delay_duration</th>\n",
       "    </tr>\n",
       "    <tr>\n",
       "      <th>act_sche_diff_cate</th>\n",
       "      <th></th>\n",
       "      <th>0</th>\n",
       "      <th>1</th>\n",
       "      <th>total</th>\n",
       "      <th>Rush_flight_rates</th>\n",
       "    </tr>\n",
       "  </thead>\n",
       "  <tbody>\n",
       "    <tr>\n",
       "      <th>1</th>\n",
       "      <td>1</td>\n",
       "      <td>419997</td>\n",
       "      <td>1249446</td>\n",
       "      <td>1669443</td>\n",
       "      <td>0.748421</td>\n",
       "    </tr>\n",
       "    <tr>\n",
       "      <th>2</th>\n",
       "      <td>2</td>\n",
       "      <td>281315</td>\n",
       "      <td>864801</td>\n",
       "      <td>1146116</td>\n",
       "      <td>0.754549</td>\n",
       "    </tr>\n",
       "    <tr>\n",
       "      <th>3</th>\n",
       "      <td>3</td>\n",
       "      <td>195228</td>\n",
       "      <td>636296</td>\n",
       "      <td>831524</td>\n",
       "      <td>0.765217</td>\n",
       "    </tr>\n",
       "    <tr>\n",
       "      <th>4</th>\n",
       "      <td>4</td>\n",
       "      <td>86581</td>\n",
       "      <td>305698</td>\n",
       "      <td>392279</td>\n",
       "      <td>0.779287</td>\n",
       "    </tr>\n",
       "    <tr>\n",
       "      <th>5</th>\n",
       "      <td>5</td>\n",
       "      <td>0</td>\n",
       "      <td>0</td>\n",
       "      <td>0</td>\n",
       "      <td>NaN</td>\n",
       "    </tr>\n",
       "    <tr>\n",
       "      <th>6</th>\n",
       "      <td>6</td>\n",
       "      <td>0</td>\n",
       "      <td>0</td>\n",
       "      <td>0</td>\n",
       "      <td>NaN</td>\n",
       "    </tr>\n",
       "  </tbody>\n",
       "</table>\n",
       "</div>"
      ],
      "text/plain": [
       "                   delay_depa_cate delay_duration                    \\\n",
       "act_sche_diff_cate                              0        1    total   \n",
       "1                                1         419997  1249446  1669443   \n",
       "2                                2         281315   864801  1146116   \n",
       "3                                3         195228   636296   831524   \n",
       "4                                4          86581   305698   392279   \n",
       "5                                5              0        0        0   \n",
       "6                                6              0        0        0   \n",
       "\n",
       "                                      \n",
       "act_sche_diff_cate Rush_flight_rates  \n",
       "1                           0.748421  \n",
       "2                           0.754549  \n",
       "3                           0.765217  \n",
       "4                           0.779287  \n",
       "5                                NaN  \n",
       "6                                NaN  "
      ]
     },
     "execution_count": 79,
     "metadata": {},
     "output_type": "execute_result"
    }
   ],
   "source": [
    "delay_counts_act_diff_plt[('delay_duration','total')] = delay_counts_act_diff_plt[('delay_duration',1)]+delay_counts_act_diff_plt[('delay_duration',0)]\n",
    "delay_counts_act_diff_plt[('delay_duration','Rush_flight_rates')] = delay_counts_act_diff_plt[('delay_duration',1)] / delay_counts_act_diff_plt[('delay_duration','total')]\n",
    "\n",
    "delay_counts_act_diff_plt"
   ]
  },
  {
   "cell_type": "code",
   "execution_count": 37,
   "id": "806c9549-bb09-4540-83cb-ba1f26ebae36",
   "metadata": {},
   "outputs": [
    {
     "data": {
      "text/plain": [
       "{'delay_range': ['0~15',\n",
       "  '15~30',\n",
       "  '30~45',\n",
       "  '45~60',\n",
       "  '60~75',\n",
       "  '75~90',\n",
       "  '90~105',\n",
       "  '105~120',\n",
       "  '120~135',\n",
       "  '135~150',\n",
       "  '150~165',\n",
       "  '165~180',\n",
       "  '180~']}"
      ]
     },
     "execution_count": 37,
     "metadata": {},
     "output_type": "execute_result"
    }
   ],
   "source": [
    "data = {'delay_range': ['5~10','10~15','15~30','30~45']}\n",
    "data"
   ]
  },
  {
   "cell_type": "code",
   "execution_count": 81,
   "id": "a5e21f6f-26ab-4572-8f5d-52e0eb190a2b",
   "metadata": {},
   "outputs": [],
   "source": [
    "new_df = delay_counts_act_diff_plt.insert(3,column='delay_range', value=['5~10','10~15','15~20','20~25','25~30','30~'])"
   ]
  },
  {
   "cell_type": "code",
   "execution_count": 87,
   "id": "69de866a-6c78-4cae-8625-d5c42ca75c4a",
   "metadata": {
    "collapsed": true,
    "jupyter": {
     "outputs_hidden": true
    },
    "tags": []
   },
   "outputs": [
    {
     "name": "stderr",
     "output_type": "stream",
     "text": [
      "C:\\Users\\terra\\AppData\\Local\\Temp\\ipykernel_17568\\4012100036.py:1: PerformanceWarning: indexing past lexsort depth may impact performance.\n",
      "  delay_counts_act_diff_plt[('delay_depa_cate', )][0:4]\n",
      "C:\\Users\\terra\\AppData\\Local\\Temp\\ipykernel_17568\\4012100036.py:1: FutureWarning: The behavior of `series[i:j]` with an integer-dtype index is deprecated. In a future version, this will be treated as *label-based* indexing, consistent with e.g. `series[i]` lookups. To retain the old behavior, use `series.iloc[i:j]`. To get the future behavior, use `series.loc[i:j]`.\n",
      "  delay_counts_act_diff_plt[('delay_depa_cate', )][0:4]\n"
     ]
    },
    {
     "data": {
      "text/plain": [
       "1    1\n",
       "2    2\n",
       "3    3\n",
       "4    4\n",
       "Name: (delay_depa_cate,), dtype: category\n",
       "Categories (7, int64): [0 < 1 < 2 < 3 < 4 < 5 < 6]"
      ]
     },
     "execution_count": 87,
     "metadata": {},
     "output_type": "execute_result"
    }
   ],
   "source": [
    "delay_counts_act_diff_plt[('delay_depa_cate', )][0:4]"
   ]
  },
  {
   "cell_type": "code",
   "execution_count": 88,
   "id": "3f5efd27-7e50-48fe-ac67-1f4d2e40d035",
   "metadata": {
    "collapsed": true,
    "jupyter": {
     "outputs_hidden": true
    },
    "tags": []
   },
   "outputs": [
    {
     "name": "stderr",
     "output_type": "stream",
     "text": [
      "C:\\Users\\terra\\AppData\\Local\\Temp\\ipykernel_17568\\1556211084.py:1: PerformanceWarning: indexing past lexsort depth may impact performance.\n",
      "  delay_counts_act_diff_plt[('delay_range', )][0:4]\n",
      "C:\\Users\\terra\\AppData\\Local\\Temp\\ipykernel_17568\\1556211084.py:1: FutureWarning: The behavior of `series[i:j]` with an integer-dtype index is deprecated. In a future version, this will be treated as *label-based* indexing, consistent with e.g. `series[i]` lookups. To retain the old behavior, use `series.iloc[i:j]`. To get the future behavior, use `series.loc[i:j]`.\n",
      "  delay_counts_act_diff_plt[('delay_range', )][0:4]\n"
     ]
    },
    {
     "data": {
      "text/plain": [
       "1     5~10\n",
       "2    10~15\n",
       "3    15~20\n",
       "4    20~25\n",
       "Name: (delay_range,), dtype: object"
      ]
     },
     "execution_count": 88,
     "metadata": {},
     "output_type": "execute_result"
    }
   ],
   "source": [
    "delay_counts_act_diff_plt[('delay_range', )][0:4]"
   ]
  },
  {
   "cell_type": "markdown",
   "id": "2c07a454-2e44-4613-98e2-455fb675d916",
   "metadata": {
    "tags": []
   },
   "source": [
    "## 繪圖"
   ]
  },
  {
   "cell_type": "code",
   "execution_count": 103,
   "id": "9da5d225-c9b4-4d04-bd4e-6c54583e5c35",
   "metadata": {},
   "outputs": [
    {
     "name": "stderr",
     "output_type": "stream",
     "text": [
      "C:\\Users\\terra\\AppData\\Local\\Temp\\ipykernel_17568\\2446150006.py:7: PerformanceWarning: indexing past lexsort depth may impact performance.\n",
      "  x = delay_counts_act_diff_plt[('delay_range', )][0:4] #各種起飛延誤級距\n",
      "C:\\Users\\terra\\AppData\\Local\\Temp\\ipykernel_17568\\2446150006.py:7: FutureWarning: The behavior of `series[i:j]` with an integer-dtype index is deprecated. In a future version, this will be treated as *label-based* indexing, consistent with e.g. `series[i]` lookups. To retain the old behavior, use `series.iloc[i:j]`. To get the future behavior, use `series.loc[i:j]`.\n",
      "  x = delay_counts_act_diff_plt[('delay_range', )][0:4] #各種起飛延誤級距\n",
      "C:\\Users\\terra\\AppData\\Local\\Temp\\ipykernel_17568\\2446150006.py:8: FutureWarning: The behavior of `series[i:j]` with an integer-dtype index is deprecated. In a future version, this will be treated as *label-based* indexing, consistent with e.g. `series[i]` lookups. To retain the old behavior, use `series.iloc[i:j]`. To get the future behavior, use `series.loc[i:j]`.\n",
      "  y1 = delay_counts_act_diff_plt[(  'delay_duration',  1)][0:4] #有趕飛\n",
      "C:\\Users\\terra\\AppData\\Local\\Temp\\ipykernel_17568\\2446150006.py:9: FutureWarning: The behavior of `series[i:j]` with an integer-dtype index is deprecated. In a future version, this will be treated as *label-based* indexing, consistent with e.g. `series[i]` lookups. To retain the old behavior, use `series.iloc[i:j]`. To get the future behavior, use `series.loc[i:j]`.\n",
      "  y0 = delay_counts_act_diff_plt[(  'delay_duration',  0)][0:4] #沒趕飛\n",
      "C:\\Users\\terra\\AppData\\Local\\Temp\\ipykernel_17568\\2446150006.py:28: PerformanceWarning: indexing past lexsort depth may impact performance.\n",
      "  ax2 = sns.lineplot(data = delay_counts_act_diff_plt , x=delay_counts_act_diff_plt[('delay_range', )] , y=delay_counts_act_diff_plt[(  'delay_duration',  'Rush_flight_rates')], color=color )\n"
     ]
    },
    {
     "data": {
      "image/png": "[encoded data removed]",
      "text/plain": [
       "<Figure size 1800x1500 with 2 Axes>"
      ]
     },
     "metadata": {},
     "output_type": "display_data"
    }
   ],
   "source": [
    "# plt.figure(figsize=(25, 10))\n",
    "fig ,ax1 = plt.subplots(figsize=(18, 15))\n",
    "color = 'red'\n",
    "plt.title('24.Rush_delay_flight',fontsize=20)\n",
    "\n",
    "colors = plt.cm.BuPu(np.linspace(0.4,0.75,2))\n",
    "x = delay_counts_act_diff_plt[('delay_range', )][0:4] #各種起飛延誤級距\n",
    "y1 = delay_counts_act_diff_plt[(  'delay_duration',  1)][0:4] #有趕飛\n",
    "y0 = delay_counts_act_diff_plt[(  'delay_duration',  0)][0:4] #沒趕飛\n",
    "\n",
    "plt.ticklabel_format(style='plain',axis='y')\n",
    "\n",
    "plt.bar(x, y1, label='Rush_Flight', color=colors[1],alpha=0.75 ,tick_label=[1,2,3,4,],bottom=y0)\n",
    "ax = plt.bar(x, y0, label='Non_Rush_Flight', color=colors[0], alpha=0.75 ,tick_label=[1,2,3,4,] )\n",
    "\n",
    "ax1.set_xlabel('Delay_Range',fontsize=18)\n",
    "ax1.set_ylabel('Flight_num',fontsize=18)\n",
    "plt.tick_params(axis='y', which='both', labelsize=15)\n",
    "plt.tick_params(axis='x', which='both', labelsize=15)\n",
    "plt.yticks(np.linspace(0,2000000,5))\n",
    "plt.ylim(0, 2000000)\n",
    "\n",
    "handles, labels = plt.gca().get_legend_handles_labels()\n",
    "plt.legend(handles, labels, fontsize=24,markerscale=3,loc='center right')\n",
    "\n",
    "ax2 = ax1.twinx()\n",
    "ax2.set_ylabel('Rush_flight_rates',fontsize=18)\n",
    "ax2 = sns.lineplot(data = delay_counts_act_diff_plt , x=delay_counts_act_diff_plt[('delay_range', )] , y=delay_counts_act_diff_plt[(  'delay_duration',  'Rush_flight_rates')], color=color )\n",
    "ax2.tick_params(axis='y', which='both', labelsize=15)\n",
    "plt.yticks(np.linspace(0,0.8,5),minor=False)\n",
    "plt.ylim(0, 0.8)\n",
    "\n",
    "plt.savefig('24.Rush_delay_flight_0416.png')\n"
   ]
  },
  {
   "cell_type": "markdown",
   "id": "480fa3f2-fb7f-41f3-9afb-879cd93bdf04",
   "metadata": {},
   "source": [
    "## 存出CSV"
   ]
  },
  {
   "cell_type": "code",
   "execution_count": 115,
   "id": "7decd0cb-f059-43fd-b746-3d5a426e0a6e",
   "metadata": {
    "tags": []
   },
   "outputs": [
    {
     "data": {
      "text/plain": [
       "1    1\n",
       "2    2\n",
       "3    3\n",
       "4    4\n",
       "5    5\n",
       "6    6\n",
       "Name: (delay_depa_cate, ), dtype: category\n",
       "Categories (7, int64): [0 < 1 < 2 < 3 < 4 < 5 < 6]"
      ]
     },
     "execution_count": 115,
     "metadata": {},
     "output_type": "execute_result"
    }
   ],
   "source": [
    "delay_counts_act_diff_plt[('delay_depa_cate', '')]"
   ]
  },
  {
   "cell_type": "code",
   "execution_count": null,
   "id": "5e4d4dc0-6416-4cbe-8c60-1a514959ce13",
   "metadata": {},
   "outputs": [],
   "source": []
  },
  {
   "cell_type": "code",
   "execution_count": 87,
   "id": "1306d341-6aa6-49d6-8cdf-735ff187f0ce",
   "metadata": {},
   "outputs": [],
   "source": [
    "delay_counts_act_diff_plt.to_csv('24.Rush_delay_flight_0416.csv')"
   ]
  },
  {
   "cell_type": "code",
   "execution_count": 11,
   "id": "dbf6434f-e08f-43e6-8b3d-c18fe7715cf0",
   "metadata": {
    "collapsed": true,
    "jupyter": {
     "outputs_hidden": true,
     "source_hidden": true
    },
    "tags": []
   },
   "outputs": [
    {
     "ename": "KeyError",
     "evalue": "'sche_duration'",
     "output_type": "error",
     "traceback": [
      "\u001b[1;31m---------------------------------------------------------------------------\u001b[0m",
      "\u001b[1;31mKeyError\u001b[0m                                  Traceback (most recent call last)",
      "File \u001b[1;32m~\\AppData\\Local\\Programs\\Python\\Python310\\lib\\site-packages\\pandas\\core\\indexes\\base.py:3803\u001b[0m, in \u001b[0;36mIndex.get_loc\u001b[1;34m(self, key, method, tolerance)\u001b[0m\n\u001b[0;32m   3802\u001b[0m \u001b[38;5;28;01mtry\u001b[39;00m:\n\u001b[1;32m-> 3803\u001b[0m     \u001b[38;5;28;01mreturn\u001b[39;00m \u001b[38;5;28;43mself\u001b[39;49m\u001b[38;5;241;43m.\u001b[39;49m\u001b[43m_engine\u001b[49m\u001b[38;5;241;43m.\u001b[39;49m\u001b[43mget_loc\u001b[49m\u001b[43m(\u001b[49m\u001b[43mcasted_key\u001b[49m\u001b[43m)\u001b[49m\n\u001b[0;32m   3804\u001b[0m \u001b[38;5;28;01mexcept\u001b[39;00m \u001b[38;5;167;01mKeyError\u001b[39;00m \u001b[38;5;28;01mas\u001b[39;00m err:\n",
      "File \u001b[1;32m~\\AppData\\Local\\Programs\\Python\\Python310\\lib\\site-packages\\pandas\\_libs\\index.pyx:138\u001b[0m, in \u001b[0;36mpandas._libs.index.IndexEngine.get_loc\u001b[1;34m()\u001b[0m\n",
      "File \u001b[1;32m~\\AppData\\Local\\Programs\\Python\\Python310\\lib\\site-packages\\pandas\\_libs\\index.pyx:165\u001b[0m, in \u001b[0;36mpandas._libs.index.IndexEngine.get_loc\u001b[1;34m()\u001b[0m\n",
      "File \u001b[1;32mpandas\\_libs\\hashtable_class_helper.pxi:5745\u001b[0m, in \u001b[0;36mpandas._libs.hashtable.PyObjectHashTable.get_item\u001b[1;34m()\u001b[0m\n",
      "File \u001b[1;32mpandas\\_libs\\hashtable_class_helper.pxi:5753\u001b[0m, in \u001b[0;36mpandas._libs.hashtable.PyObjectHashTable.get_item\u001b[1;34m()\u001b[0m\n",
      "\u001b[1;31mKeyError\u001b[0m: 'sche_duration'",
      "\nThe above exception was the direct cause of the following exception:\n",
      "\u001b[1;31mKeyError\u001b[0m                                  Traceback (most recent call last)",
      "Cell \u001b[1;32mIn[11], line 1\u001b[0m\n\u001b[1;32m----> 1\u001b[0m delay_counts[\u001b[38;5;124m'\u001b[39m\u001b[38;5;124mact_sche_diff\u001b[39m\u001b[38;5;124m'\u001b[39m] \u001b[38;5;241m=\u001b[39m delay_counts[\u001b[38;5;124m'\u001b[39m\u001b[38;5;124mactu_duration\u001b[39m\u001b[38;5;124m'\u001b[39m] \u001b[38;5;241m-\u001b[39m \u001b[43mdelay_counts\u001b[49m\u001b[43m[\u001b[49m\u001b[38;5;124;43m'\u001b[39;49m\u001b[38;5;124;43msche_duration\u001b[39;49m\u001b[38;5;124;43m'\u001b[39;49m\u001b[43m]\u001b[49m\n\u001b[0;32m      2\u001b[0m delay_counts[[\u001b[38;5;124m'\u001b[39m\u001b[38;5;124mact_sche_diff\u001b[39m\u001b[38;5;124m'\u001b[39m]]\n",
      "File \u001b[1;32m~\\AppData\\Local\\Programs\\Python\\Python310\\lib\\site-packages\\pandas\\core\\frame.py:3805\u001b[0m, in \u001b[0;36mDataFrame.__getitem__\u001b[1;34m(self, key)\u001b[0m\n\u001b[0;32m   3803\u001b[0m \u001b[38;5;28;01mif\u001b[39;00m \u001b[38;5;28mself\u001b[39m\u001b[38;5;241m.\u001b[39mcolumns\u001b[38;5;241m.\u001b[39mnlevels \u001b[38;5;241m>\u001b[39m \u001b[38;5;241m1\u001b[39m:\n\u001b[0;32m   3804\u001b[0m     \u001b[38;5;28;01mreturn\u001b[39;00m \u001b[38;5;28mself\u001b[39m\u001b[38;5;241m.\u001b[39m_getitem_multilevel(key)\n\u001b[1;32m-> 3805\u001b[0m indexer \u001b[38;5;241m=\u001b[39m \u001b[38;5;28;43mself\u001b[39;49m\u001b[38;5;241;43m.\u001b[39;49m\u001b[43mcolumns\u001b[49m\u001b[38;5;241;43m.\u001b[39;49m\u001b[43mget_loc\u001b[49m\u001b[43m(\u001b[49m\u001b[43mkey\u001b[49m\u001b[43m)\u001b[49m\n\u001b[0;32m   3806\u001b[0m \u001b[38;5;28;01mif\u001b[39;00m is_integer(indexer):\n\u001b[0;32m   3807\u001b[0m     indexer \u001b[38;5;241m=\u001b[39m [indexer]\n",
      "File \u001b[1;32m~\\AppData\\Local\\Programs\\Python\\Python310\\lib\\site-packages\\pandas\\core\\indexes\\base.py:3805\u001b[0m, in \u001b[0;36mIndex.get_loc\u001b[1;34m(self, key, method, tolerance)\u001b[0m\n\u001b[0;32m   3803\u001b[0m     \u001b[38;5;28;01mreturn\u001b[39;00m \u001b[38;5;28mself\u001b[39m\u001b[38;5;241m.\u001b[39m_engine\u001b[38;5;241m.\u001b[39mget_loc(casted_key)\n\u001b[0;32m   3804\u001b[0m \u001b[38;5;28;01mexcept\u001b[39;00m \u001b[38;5;167;01mKeyError\u001b[39;00m \u001b[38;5;28;01mas\u001b[39;00m err:\n\u001b[1;32m-> 3805\u001b[0m     \u001b[38;5;28;01mraise\u001b[39;00m \u001b[38;5;167;01mKeyError\u001b[39;00m(key) \u001b[38;5;28;01mfrom\u001b[39;00m \u001b[38;5;21;01merr\u001b[39;00m\n\u001b[0;32m   3806\u001b[0m \u001b[38;5;28;01mexcept\u001b[39;00m \u001b[38;5;167;01mTypeError\u001b[39;00m:\n\u001b[0;32m   3807\u001b[0m     \u001b[38;5;66;03m# If we have a listlike key, _check_indexing_error will raise\u001b[39;00m\n\u001b[0;32m   3808\u001b[0m     \u001b[38;5;66;03m#  InvalidIndexError. Otherwise we fall through and re-raise\u001b[39;00m\n\u001b[0;32m   3809\u001b[0m     \u001b[38;5;66;03m#  the TypeError.\u001b[39;00m\n\u001b[0;32m   3810\u001b[0m     \u001b[38;5;28mself\u001b[39m\u001b[38;5;241m.\u001b[39m_check_indexing_error(key)\n",
      "\u001b[1;31mKeyError\u001b[0m: 'sche_duration'"
     ]
    }
   ],
   "source": [
    "delay_counts['act_sche_diff'] = delay_counts['actu_duration'] - delay_counts['sche_duration']\n",
    "delay_counts[['act_sche_diff']]"
   ]
  },
  {
   "cell_type": "code",
   "execution_count": null,
   "id": "27199177-d552-4ca5-b9dc-08af694a37d2",
   "metadata": {},
   "outputs": [],
   "source": []
  }
 ],
 "metadata": {
  "kernelspec": {
   "display_name": "Python 3 (ipykernel)",
   "language": "python",
   "name": "python3"
  },
  "language_info": {
   "codemirror_mode": {
    "name": "ipython",
    "version": 3
   },
   "file_extension": ".py",
   "mimetype": "text/x-python",
   "name": "python",
   "nbconvert_exporter": "python",
   "pygments_lexer": "ipython3",
   "version": "3.10.7"
  }
 },
 "nbformat": 4,
 "nbformat_minor": 5
}

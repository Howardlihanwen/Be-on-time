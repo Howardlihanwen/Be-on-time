{
 "cells": [
  {
   "cell_type": "code",
   "execution_count": null,
   "metadata": {},
   "outputs": [],
   "source": [
    "'''目標：將資料以每小時為單位進行合併'''\n",
    "import os\n",
    "import pandas as pd\n",
    "\n",
    "# 原資料夾路徑\n",
    "folder_path ='C:/02_fp_data_weather3/'\n",
    "\n",
    "# 新資料夾路徑\n",
    "new_folder_path ='C:/02_fp_data_weather4/'\n",
    "\n",
    "# 如果新資料夾不存在，則建立它\n",
    "if not os.path.exists(new_folder_path):\n",
    "    os.makedirs(new_folder_path)\n",
    "\n",
    "# 取得資料夾中所有 CSV 檔案的檔名\n",
    "csv_files = [f for f in os.listdir(folder_path) if f.endswith('.csv')]\n",
    "\n",
    "# 逐一處理每一個 CSV 檔案\n",
    "for file in csv_files:\n",
    "    # 讀取 CSV 檔案\n",
    "    df = pd.read_csv(os.path.join(folder_path, file), index_col=False)\n",
    "\n",
    "    # 刪除\"分、秒\"欄位\n",
    "    df = df.drop(['time_min', 'time_sec'], axis=1)\n",
    "\n",
    "    # 以\"年、月、日、時\"群組取所有欄位平均\n",
    "    df_new = df.groupby(['WBAN', 'date_year', 'date_month', 'date_date', 'time_hr']).mean()\n",
    "\n",
    "    # 將\"年、月、日、時\"的 index 轉回 column\n",
    "    df_new.reset_index(inplace=True)\n",
    "    \n",
    "    # 另存新檔\n",
    "    df_new.to_csv(os.path.join(new_folder_path, file), index=False)"
   ]
  }
 ],
 "metadata": {
  "kernelspec": {
   "display_name": "base",
   "language": "python",
   "name": "python3"
  },
  "language_info": {
   "codemirror_mode": {
    "name": "ipython",
    "version": 3
   },
   "file_extension": ".py",
   "mimetype": "text/x-python",
   "name": "python",
   "nbconvert_exporter": "python",
   "pygments_lexer": "ipython3",
   "version": "3.9.13"
  },
  "orig_nbformat": 4
 },
 "nbformat": 4,
 "nbformat_minor": 2
}

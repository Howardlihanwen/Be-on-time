{
 "cells": [
  {
   "attachments": {},
   "cell_type": "markdown",
   "metadata": {},
   "source": [
    "# NaN頻率偵測"
   ]
  },
  {
   "cell_type": "code",
   "execution_count": null,
   "metadata": {},
   "outputs": [],
   "source": [
    "import pandas as pd\n",
    "import os\n",
    "\n",
    "# 指定目錄檔路徑\n",
    "path = 'C:/Users/student/期末project/02_fp_data_weather3'\n",
    "\n",
    "# 取得目錄下所有的csv檔案的路徑\n",
    "file_paths = [f for f in os.listdir(path) if f.endswith('.csv')]\n",
    "# 選定計算NaN值的欄位名稱\n",
    "column_name1 = \"station_pressure\"\n",
    "#column_name2 = \"dry_bulb_temp\"\n",
    "#column_name3 = \"wet_bulb_temp\"\n",
    "#column_name4 = \"dew_point_temp\"\n",
    "#column_name5 = \"precipitation\"\n",
    "#column_name6 = \"snow_fall\"\n",
    "#column_name7 = \"snow_depth\"\n",
    "#column_name8 = \"relative_humidity\"\n",
    "#column_name9 = \"wind_dict\"\n",
    "#column_name10 = \"wind_speed\"\n",
    "#column_name11 = \"visibility\"\n",
    "#column_name12 = \"sealevel_pressure\"\n",
    "#column_name13 = \"pressure_change\"\n",
    "#column_name14 = \"pressure_tendency\"\n",
    "\n",
    "# 創建空的 DataFrame\n",
    "df_total = pd.DataFrame(columns=['file_path', 'nan_nums', 'nan_means', 'rows'])\n",
    "\n",
    "# 讀取所有檔案，計算出每個檔案中選定欄位的NaN數量\n",
    "for file_path in file_paths:\n",
    "    \n",
    "    # load csv檔案為 DataFrame 對象\n",
    "    file_path = os.path.join(path, file_path)\n",
    "    df = pd.read_csv(file_path, encoding=\"utf-8\")\n",
    "    # 計算選定欄位中NaN的數量\n",
    "    nan_nums = df[column_name1].isna().sum()\n",
    "    # 計算選定欄位中NaN的平均\n",
    "    nan_means = df[column_name1].isna().mean()\n",
    "    #print(type(nan_nums))\n",
    "    \n",
    "    # 計算 DataFrame 的 row 數量\n",
    "    rows = df.shape[0]\n",
    "    \n",
    "    # 如果NaN數量輸出到控制台\n",
    "    #print(\"NaN數量 {} \".format(nan_nums))\n",
    "    # 將檔案名稱和NaN數量加入 DataFrame 中\n",
    "    df_total = df_total.append({'file_path': file_path, 'nan_nums': nan_nums, 'nan_means': nan_means, 'rows': rows }, ignore_index=True)\n",
    "\n",
    "# 將 DataFrame 寫入到文本檔中\n",
    "df_total.to_csv(f\"{path}/NaN值總表station_pressure.csv\", index=False, encoding=\"utf-8\")"
   ]
  }
 ],
 "metadata": {
  "language_info": {
   "name": "python"
  },
  "orig_nbformat": 4
 },
 "nbformat": 4,
 "nbformat_minor": 2
}

{
 "cells": [
  {
   "cell_type": "code",
   "execution_count": 9,
   "id": "e17dbe17",
   "metadata": {},
   "outputs": [],
   "source": [
    "import pandas as pd\n",
    "import os"
   ]
  },
  {
   "cell_type": "code",
   "execution_count": 10,
   "id": "1642f8c9",
   "metadata": {},
   "outputs": [],
   "source": [
    "# 選擇檔案目錄\n",
    "dir_path = 'Data_preprocessings/'\n",
    "\n",
    "# 取得目錄下的檔案\n",
    "file_names = os.listdir(dir_path)"
   ]
  },
  {
   "cell_type": "code",
   "execution_count": 28,
   "id": "20c08ca6",
   "metadata": {},
   "outputs": [
    {
     "data": {
      "text/plain": [
       "Series([], Name: airport_code, dtype: object)"
      ]
     },
     "execution_count": 28,
     "metadata": {},
     "output_type": "execute_result"
    }
   ],
   "source": [
    "airport = pd.read_csv(\"airport_info_0324.csv\")\n",
    "# 取得需要的欄位\n",
    "airport = airport[\"airport_code\"]\n",
    "#double check\n",
    "# airport[airport == \"CYS\"]"
   ]
  },
  {
   "cell_type": "code",
   "execution_count": 12,
   "id": "a7daba37",
   "metadata": {},
   "outputs": [
    {
     "name": "stdout",
     "output_type": "stream",
     "text": [
      "False values found in flight_info_18_DFW_OO.csv.\n",
      "False values found in flight_info_19_DFW_OO.csv.\n",
      "False values found in flight_info_20_DEN_OO.csv.\n",
      "False values found in flight_info_20_DFW_OO.csv.\n",
      "False values found in flight_info_22_DEN_OO.csv.\n"
     ]
    }
   ],
   "source": [
    "# https://www.runoob.com/python/python-func-all.html - all用法\n",
    "# 如果iterable有一個false則回傳false\n",
    "\n",
    "for file_names in file_names:\n",
    "    df = pd.read_csv(f'{dir_path}{file_names}')\n",
    "    #檢查目的地機場欄位是否有在airport清單裡\n",
    "    check = df[\"Destination Airport\"].isin(airport)\n",
    "    # 如果有一個為false則列印下列字串\n",
    "    if not check.all():\n",
    "        print(f'False values found in {file_names}.')"
   ]
  },
  {
   "cell_type": "code",
   "execution_count": 44,
   "id": "48cd19c1",
   "metadata": {
    "scrolled": true
   },
   "outputs": [
    {
     "name": "stdout",
     "output_type": "stream",
     "text": [
      "True     56548\n",
      "False      581\n",
      "Name: Destination Airport, dtype: int64\n"
     ]
    }
   ],
   "source": [
    "# 驗證找不到的目的地機場是哪一個\n",
    "df = pd.read_csv(f'{dir_path}flight_info_22_DEN_OO.csv')\n",
    "check = df[\"Destination Airport\"].isin(airport)\n",
    "fail_airport = check[check == False]\n",
    "print(test.value_counts())\n",
    "# 檢查false在哪些欄位 \n",
    "# fail_airport.index\n",
    "# df.iloc[fail_airport.index]"
   ]
  },
  {
   "cell_type": "markdown",
   "id": "7defdc18",
   "metadata": {},
   "source": [
    "### 降落機場CYS沒有在airport清單裡 - from flight_info_18_DFW_OO.csv\n",
    "### 降落機場CYS沒有在airport清單裡 - from flight_info_19_DFW_OO.csv\n",
    "### 降落機場CYS沒有在airport清單裡 - from flight_info_20_DEN_OO.csv\n",
    "### 降落機場CYS沒有在airport清單裡 - from flight_info_20_DFW_OO.csv\n",
    "### 降落機場CYS沒有在airport清單裡 - from flight_info_22_DEN_OO.csv"
   ]
  }
 ],
 "metadata": {
  "kernelspec": {
   "display_name": "Python 3 (ipykernel)",
   "language": "python",
   "name": "python3"
  },
  "language_info": {
   "codemirror_mode": {
    "name": "ipython",
    "version": 3
   },
   "file_extension": ".py",
   "mimetype": "text/x-python",
   "name": "python",
   "nbconvert_exporter": "python",
   "pygments_lexer": "ipython3",
   "version": "3.9.13"
  }
 },
 "nbformat": 4,
 "nbformat_minor": 5
}

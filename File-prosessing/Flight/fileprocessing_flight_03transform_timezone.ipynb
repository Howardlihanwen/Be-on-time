{
 "cells": [
  {
   "cell_type": "code",
   "execution_count": null,
   "id": "ff825fc4",
   "metadata": {},
   "outputs": [],
   "source": [
    "import pandas as pd\n",
    "import os\n",
    "import datetime\n",
    "from datetime import timedelta, time"
   ]
  },
  {
   "cell_type": "code",
   "execution_count": null,
   "id": "d76faeae",
   "metadata": {
    "scrolled": false
   },
   "outputs": [],
   "source": [
    "# 選擇檔案目錄\n",
    "dir_path = \"Data_clears/\"\n",
    "\n",
    "# 取得目錄底下檔案\n",
    "filename = os.listdir(dir_path)\n",
    "\n",
    "# 建立儲存目錄\n",
    "folderPath = 'flight_data_final'\n",
    "if not os.path.exists(folderPath):\n",
    "    os.makedirs(folderPath)\n",
    "\n",
    "# 載入airport_info csv，並選取所需欄位\n",
    "airport = pd.read_csv(\"airport_info_0325.csv\")\n",
    "airport[\"WBAN\"] = airport[\"WBAN\"].astype(str)\n",
    "# 補滿5位數\n",
    "airport[\"WBAN\"] = airport[\"WBAN\"].str.zfill(5)\n",
    "airport = airport[[\"state_code\", \"WBAN\", \"timezone\", \"airport_code\", \"hub_type\"]]"
   ]
  },
  {
   "cell_type": "code",
   "execution_count": null,
   "id": "62752452",
   "metadata": {},
   "outputs": [],
   "source": [
    "for j in filename:\n",
    "    \n",
    "    df = pd.read_csv(f'{dir_path}{j}')\n",
    "    df = df.merge(airport, left_on=\"depa_airport\", right_on=\"airport_code\", how = 'left')\n",
    "    df1 = df.merge(airport, left_on = \"dest_airport\", right_on = \"airport_code\", how = 'left', suffixes=(\"_depa\", \"_dest\"))\n",
    "\n",
    "    for i in range(len(df1)):\n",
    "        con_date = datetime.datetime(int(df1[\"dest_year\"][i]),\n",
    "                                     int(df1[\"dest_month\"][i]),\n",
    "                                     int(df1[\"dest_date\"][i]),\n",
    "                                     int(df1[\"dest_hr\"][i]),\n",
    "                                     int(df1[\"dest_min\"][i]))\n",
    "        # 先減掉出發地時區 + 抵達地時區。\n",
    "        con_date += timedelta(hours = -(df1[\"timezone_depa\"][i].astype('float')) + df1[\"timezone_dest\"][i].astype('float'))\n",
    "        df1[\"dest_year\"][i] = con_date.year\n",
    "        df1[\"dest_month\"][i] = con_date.month\n",
    "        df1[\"dest_date\"][i] = con_date.day\n",
    "        df1[\"dest_hr\"][i] = con_date.hour\n",
    "        df1[\"dest_min\"][i] = con_date.minute\n",
    "\n",
    "    df1.to_csv(f'{folderPath}/{j}', index = None)"
   ]
  }
 ],
 "metadata": {
  "kernelspec": {
   "display_name": "Python 3 (ipykernel)",
   "language": "python",
   "name": "python3"
  },
  "language_info": {
   "codemirror_mode": {
    "name": "ipython",
    "version": 3
   },
   "file_extension": ".py",
   "mimetype": "text/x-python",
   "name": "python",
   "nbconvert_exporter": "python",
   "pygments_lexer": "ipython3",
   "version": "3.9.13"
  }
 },
 "nbformat": 4,
 "nbformat_minor": 5
}

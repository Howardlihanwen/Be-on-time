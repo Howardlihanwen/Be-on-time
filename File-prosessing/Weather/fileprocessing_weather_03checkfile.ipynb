{
 "cells": [
  {
   "cell_type": "code",
   "execution_count": 1,
   "id": "6c5b087f-d8e3-44e9-bf38-7e5c46828d87",
   "metadata": {},
   "outputs": [],
   "source": [
    "import pandas as pd\n",
    "import os\n",
    "import shutil\n",
    "import openpyxl"
   ]
  },
  {
   "cell_type": "code",
   "execution_count": 2,
   "id": "80948c40-d5fd-49c7-b330-30e66c22bc99",
   "metadata": {},
   "outputs": [],
   "source": [
    "# step1讀入機場與氣象站mapping檔 並預先設定好WBAN碼型態為 '字串' (456 rows × 5 columns)\n",
    "df= pd.read_csv('../airport_機場/研究結果/airport_info_0321.csv',dtype={2:'str'})"
   ]
  },
  {
   "cell_type": "code",
   "execution_count": 4,
   "id": "be421d66-f7d5-49b6-bc58-bf36e5faa278",
   "metadata": {
    "collapsed": true,
    "jupyter": {
     "outputs_hidden": true
    },
    "tags": []
   },
   "outputs": [
    {
     "data": {
      "text/html": [
       "<div>\n",
       "<style scoped>\n",
       "    .dataframe tbody tr th:only-of-type {\n",
       "        vertical-align: middle;\n",
       "    }\n",
       "\n",
       "    .dataframe tbody tr th {\n",
       "        vertical-align: top;\n",
       "    }\n",
       "\n",
       "    .dataframe thead th {\n",
       "        text-align: right;\n",
       "    }\n",
       "</style>\n",
       "<table border=\"1\" class=\"dataframe\">\n",
       "  <thead>\n",
       "    <tr style=\"text-align: right;\">\n",
       "      <th></th>\n",
       "      <th>0</th>\n",
       "    </tr>\n",
       "  </thead>\n",
       "  <tbody>\n",
       "    <tr>\n",
       "      <th>0</th>\n",
       "      <td>weather_info_00102.csv</td>\n",
       "    </tr>\n",
       "    <tr>\n",
       "      <th>1</th>\n",
       "      <td>weather_info_00103.csv</td>\n",
       "    </tr>\n",
       "    <tr>\n",
       "      <th>2</th>\n",
       "      <td>weather_info_00104.csv</td>\n",
       "    </tr>\n",
       "    <tr>\n",
       "      <th>3</th>\n",
       "      <td>weather_info_00105.csv</td>\n",
       "    </tr>\n",
       "    <tr>\n",
       "      <th>4</th>\n",
       "      <td>weather_info_00106.csv</td>\n",
       "    </tr>\n",
       "    <tr>\n",
       "      <th>...</th>\n",
       "      <td>...</td>\n",
       "    </tr>\n",
       "    <tr>\n",
       "      <th>2211</th>\n",
       "      <td>weather_info_96405.csv</td>\n",
       "    </tr>\n",
       "    <tr>\n",
       "      <th>2212</th>\n",
       "      <td>weather_info_96406.csv</td>\n",
       "    </tr>\n",
       "    <tr>\n",
       "      <th>2213</th>\n",
       "      <td>weather_info_96407.csv</td>\n",
       "    </tr>\n",
       "    <tr>\n",
       "      <th>2214</th>\n",
       "      <td>weather_info_96408.csv</td>\n",
       "    </tr>\n",
       "    <tr>\n",
       "      <th>2215</th>\n",
       "      <td>weather_info_96409.csv</td>\n",
       "    </tr>\n",
       "  </tbody>\n",
       "</table>\n",
       "<p>2216 rows × 1 columns</p>\n",
       "</div>"
      ],
      "text/plain": [
       "                           0\n",
       "0     weather_info_00102.csv\n",
       "1     weather_info_00103.csv\n",
       "2     weather_info_00104.csv\n",
       "3     weather_info_00105.csv\n",
       "4     weather_info_00106.csv\n",
       "...                      ...\n",
       "2211  weather_info_96405.csv\n",
       "2212  weather_info_96406.csv\n",
       "2213  weather_info_96407.csv\n",
       "2214  weather_info_96408.csv\n",
       "2215  weather_info_96409.csv\n",
       "\n",
       "[2216 rows x 1 columns]"
      ]
     },
     "execution_count": 4,
     "metadata": {},
     "output_type": "execute_result"
    }
   ],
   "source": [
    "# step2列出爬取到的所有天氣站觀測資訊檔案清單 (2216 筆)\n",
    "weat_stat=[]\n",
    "weat_stat= os.listdir('C:/Users/terra/BDSE29_learning data/期末專題/3.期末/資料研究/weather_天氣/02_fp_data_weather2')\n",
    "\n",
    "#把氣象站清單從list轉成dataframe 以利後續使用 (2216 rows × 1 columns)\n",
    "df_wea= pd.DataFrame(weat_stat)"
   ]
  },
  {
   "cell_type": "code",
   "execution_count": 5,
   "id": "9393e983-f793-40e3-b960-70a473a5000c",
   "metadata": {
    "collapsed": true,
    "jupyter": {
     "outputs_hidden": true
    },
    "tags": []
   },
   "outputs": [
    {
     "data": {
      "text/html": [
       "<div>\n",
       "<style scoped>\n",
       "    .dataframe tbody tr th:only-of-type {\n",
       "        vertical-align: middle;\n",
       "    }\n",
       "\n",
       "    .dataframe tbody tr th {\n",
       "        vertical-align: top;\n",
       "    }\n",
       "\n",
       "    .dataframe thead th {\n",
       "        text-align: right;\n",
       "    }\n",
       "</style>\n",
       "<table border=\"1\" class=\"dataframe\">\n",
       "  <thead>\n",
       "    <tr style=\"text-align: right;\">\n",
       "      <th></th>\n",
       "      <th>0</th>\n",
       "      <th>WBAN</th>\n",
       "    </tr>\n",
       "  </thead>\n",
       "  <tbody>\n",
       "    <tr>\n",
       "      <th>0</th>\n",
       "      <td>weather_info_00102.csv</td>\n",
       "      <td>00102</td>\n",
       "    </tr>\n",
       "    <tr>\n",
       "      <th>1</th>\n",
       "      <td>weather_info_00103.csv</td>\n",
       "      <td>00103</td>\n",
       "    </tr>\n",
       "    <tr>\n",
       "      <th>2</th>\n",
       "      <td>weather_info_00104.csv</td>\n",
       "      <td>00104</td>\n",
       "    </tr>\n",
       "    <tr>\n",
       "      <th>3</th>\n",
       "      <td>weather_info_00105.csv</td>\n",
       "      <td>00105</td>\n",
       "    </tr>\n",
       "    <tr>\n",
       "      <th>4</th>\n",
       "      <td>weather_info_00106.csv</td>\n",
       "      <td>00106</td>\n",
       "    </tr>\n",
       "    <tr>\n",
       "      <th>...</th>\n",
       "      <td>...</td>\n",
       "      <td>...</td>\n",
       "    </tr>\n",
       "    <tr>\n",
       "      <th>2211</th>\n",
       "      <td>weather_info_96405.csv</td>\n",
       "      <td>96405</td>\n",
       "    </tr>\n",
       "    <tr>\n",
       "      <th>2212</th>\n",
       "      <td>weather_info_96406.csv</td>\n",
       "      <td>96406</td>\n",
       "    </tr>\n",
       "    <tr>\n",
       "      <th>2213</th>\n",
       "      <td>weather_info_96407.csv</td>\n",
       "      <td>96407</td>\n",
       "    </tr>\n",
       "    <tr>\n",
       "      <th>2214</th>\n",
       "      <td>weather_info_96408.csv</td>\n",
       "      <td>96408</td>\n",
       "    </tr>\n",
       "    <tr>\n",
       "      <th>2215</th>\n",
       "      <td>weather_info_96409.csv</td>\n",
       "      <td>96409</td>\n",
       "    </tr>\n",
       "  </tbody>\n",
       "</table>\n",
       "<p>2216 rows × 2 columns</p>\n",
       "</div>"
      ],
      "text/plain": [
       "                           0   WBAN\n",
       "0     weather_info_00102.csv  00102\n",
       "1     weather_info_00103.csv  00103\n",
       "2     weather_info_00104.csv  00104\n",
       "3     weather_info_00105.csv  00105\n",
       "4     weather_info_00106.csv  00106\n",
       "...                      ...    ...\n",
       "2211  weather_info_96405.csv  96405\n",
       "2212  weather_info_96406.csv  96406\n",
       "2213  weather_info_96407.csv  96407\n",
       "2214  weather_info_96408.csv  96408\n",
       "2215  weather_info_96409.csv  96409\n",
       "\n",
       "[2216 rows x 2 columns]"
      ]
     },
     "execution_count": 5,
     "metadata": {},
     "output_type": "execute_result"
    }
   ],
   "source": [
    "# step3把天氣站觀測資訊檔案檔名中的\"WBAN\"抓出來 並新增此一\"WBAN\"欄位  (2216 rows × 2 columns)\n",
    "df_wea['WBAN']=[x[13:18] for x in weat_stat]"
   ]
  },
  {
   "cell_type": "code",
   "execution_count": null,
   "id": "725719ff-3a59-473f-a668-515a7e1d4b4b",
   "metadata": {},
   "outputs": [],
   "source": [
    "# step4 合併兩表 df_wea(大) df(小) 以小表為主(right) 以此篩選出我們所需的 機場氣象觀測站 \n",
    "# 456[-13]-9-1=446 (446 rows × 6 columns)\n",
    "WBAN_mapping = pd.merge(df_wea, \n",
    "                     df, \n",
    "                     on = \"WBAN\",\n",
    "                     how ='right')"
   ]
  },
  {
   "cell_type": "code",
   "execution_count": null,
   "id": "725df147-4403-44c0-ab2f-5cce94749b21",
   "metadata": {},
   "outputs": [],
   "source": [
    "# !檢查!有無沒有對應到的觀測站點\n",
    "aa=WBAN_mapping[WBAN_mapping[0].isna()]\n",
    "aa\n",
    "aa.to_excel('沒有爬到對應的氣象站點.xlsx',index=None,encoding='utf-8')"
   ]
  },
  {
   "cell_type": "code",
   "execution_count": null,
   "id": "65385ef4-56af-4587-b707-3b58a1ac2426",
   "metadata": {},
   "outputs": [],
   "source": [
    "# step5 檢查當中空值 (有9筆偏遠奇怪停用機場找不到氣象站可對應 1筆為純軍機場) 所以予以刪除該樣本\n",
    "WBAN_mapping.isna().sum()"
   ]
  },
  {
   "cell_type": "code",
   "execution_count": null,
   "id": "b0150379-d8e0-45e5-bd2f-c34930267084",
   "metadata": {},
   "outputs": [],
   "source": [
    "# 刪除後的新變數 WBAN_mapping_new\n",
    "WBAN_mapping_new=WBAN_mapping.dropna(axis=0,how='any')"
   ]
  },
  {
   "cell_type": "code",
   "execution_count": null,
   "id": "f133117d-1911-4aeb-9b9d-3e7ac63d0a54",
   "metadata": {},
   "outputs": [],
   "source": [
    "# step6 把mapping到的氣象站觀測資料檔案 複製到另一個資料夾予以區別\n",
    "src='C:/Users/terra/BDSE29_learning data/期末專題/3.期末/資料研究/weather_天氣/02_fp_data_weather2/'\n",
    "dst='C:/Users/terra/BDSE29_learning data/期末專題/3.期末/資料研究/weather_天氣/'\n",
    "if not os.path.exists(f'{dst}airport_weather_stat'):\n",
    "    os.makedirs(f'{dst}airport_weather_stat')\n",
    "\n",
    "for i in WBAN_mapping_new[0]:\n",
    "    shutil.copy2(f'{src}{i}', \\\n",
    "                f'{dst}airport_weather_stat')\n"
   ]
  },
  {
   "cell_type": "code",
   "execution_count": null,
   "id": "3300cefb-e913-4c32-964e-150e1c69041d",
   "metadata": {},
   "outputs": [],
   "source": [
    "# step7 把mapping過程都另存出來留存備查\n",
    "\n",
    "# 機場第一次與天氣站點核對\n",
    "WBAN_mapping.to_excel('WBAN_mapping.xlsx',index=None,encoding='utf-8')\n",
    "# 清整完na後最終版\n",
    "WBAN_mapping_new.to_excel('WBAN_mapping_new.xlsx',index=None,encoding='utf-8')\n",
    "# 實際會用到的天氣站點446-22(機場名字重複，實則為同一機場，同一觀測站) =424\n",
    "a=os.listdir('C:\\\\Users\\\\terra\\\\BDSE29_learning data\\\\期末專題\\\\3.期末\\\\資料研究\\\\weather_天氣\\\\airport_weather')\n",
    "airport_weather=pd.DataFrame(a)\n",
    "airport_weather.to_excel('airport_weather.xlsx',encoding='utf-8')"
   ]
  }
 ],
 "metadata": {
  "kernelspec": {
   "display_name": "Python 3 (ipykernel)",
   "language": "python",
   "name": "python3"
  },
  "language_info": {
   "codemirror_mode": {
    "name": "ipython",
    "version": 3
   },
   "file_extension": ".py",
   "mimetype": "text/x-python",
   "name": "python",
   "nbconvert_exporter": "python",
   "pygments_lexer": "ipython3",
   "version": "3.10.7"
  }
 },
 "nbformat": 4,
 "nbformat_minor": 5
}

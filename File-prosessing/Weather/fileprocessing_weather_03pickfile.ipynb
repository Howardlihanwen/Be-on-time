{
 "cells": [
  {
   "cell_type": "code",
   "execution_count": 36,
   "metadata": {},
   "outputs": [
    {
     "name": "stdout",
     "output_type": "stream",
     "text": [
      "C:/weather2/weather_info_25704\n",
      "C:/weather2/weather_info_26451\n",
      "C:/weather2/weather_info_26410\n",
      "C:/weather2/weather_info_26411\n"
     ]
    }
   ],
   "source": [
    "'''第三次檔案處理'''\n",
    "'''目標：挑選出 airport_info 中機場所對應的氣象資料'''\n",
    "import os\n",
    "import pandas as pd\n",
    "import shutil\n",
    "import numpy as np\n",
    "\n",
    "df = pd.read_csv(\"C:/airport_info_0325.csv\",dtype=object)\n",
    "\n",
    "WBAN = list(df[\"WBAN\"].dropna(axis=0,how='any'))\n",
    "WBAN_list5 = []\n",
    "for i in WBAN:\n",
    "    WBAN_list5.append(i.zfill(5))\n",
    "WBAN_list5\n",
    "\n",
    "# 原資料夾\n",
    "src='C:/weather2/'\n",
    "# 目標資料夾\n",
    "dst='C:/weather3/'\n",
    "\n",
    "if not os.path.exists(f'{dst}'):\n",
    "    os.makedirs(f'{dst}')\n",
    "\n",
    "for j in WBAN_list5:\n",
    "    if os.path.exists(f\"{src}weather_info_{j}.csv\"):\n",
    "        print(f\"{src}weather_info_{j}\")\n",
    "        shutil.copyfile(f\"{src}weather_info_{j}.csv\", f\"{dst}weather_info_{j}.csv\")\n"
   ]
  }
 ],
 "metadata": {
  "kernelspec": {
   "display_name": "base",
   "language": "python",
   "name": "python3"
  },
  "language_info": {
   "name": "python",
   "version": "3.9.13"
  },
  "orig_nbformat": 4
 },
 "nbformat": 4,
 "nbformat_minor": 2
}

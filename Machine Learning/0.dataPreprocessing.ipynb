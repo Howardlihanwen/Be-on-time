{
 "cells": [
  {
   "attachments": {},
   "cell_type": "markdown",
   "metadata": {},
   "source": [
    "### 資料預處裡"
   ]
  },
  {
   "cell_type": "code",
   "execution_count": 1,
   "metadata": {},
   "outputs": [],
   "source": [
    "import json\n",
    "import numpy as np\n",
    "import pandas as pd\n",
    "import matplotlib.pyplot as plt\n",
    "from sklearn.model_selection import train_test_split\n",
    "from sklearn import preprocessing\n",
    "from sklearn.metrics import mean_squared_error, r2_score, accuracy_score, confusion_matrix, f1_score, classification_report, roc_curve, roc_auc_score\n",
    "import xgboost as xgb\n",
    "import pickle\n",
    "from bisect import bisect_left\n",
    "\n",
    "pd.set_option('display.max_columns', None)"
   ]
  },
  {
   "cell_type": "code",
   "execution_count": 2,
   "metadata": {},
   "outputs": [],
   "source": [
    "col_to_pick = ['airline',\n",
    "               'airport_depa',\n",
    "               'airport_dest',\n",
    "               'month_actu_depa',\n",
    "               'day_actu_depa',\n",
    "               'hr_actu_depa',\n",
    "               'min_actu_depa',\n",
    "               'month_actu_dest',\n",
    "               'day_actu_dest',\n",
    "               'hr_actu_dest',\n",
    "               'min_actu_dest',\n",
    "               'actu_duration',\n",
    "               'dry_bulb_temp_dest',\n",
    "               'precipitation_dest',\n",
    "               'snow_fall_dest',\n",
    "               'relative_humidity_dest',\n",
    "               'wind_speed_dest',\n",
    "               'pressure_dest',\n",
    "               'visibility_dest',\n",
    "               'delay_dest']"
   ]
  },
  {
   "cell_type": "code",
   "execution_count": 3,
   "metadata": {},
   "outputs": [
    {
     "data": {
      "text/plain": [
       "(28926859, 20)"
      ]
     },
     "execution_count": 3,
     "metadata": {},
     "output_type": "execute_result"
    }
   ],
   "source": [
    "df = pd.read_csv('../data/US_1722_flights_dataset_v1_IQR_ML.csv', usecols=col_to_pick)\n",
    "df.shape"
   ]
  },
  {
   "cell_type": "code",
   "execution_count": 4,
   "metadata": {},
   "outputs": [],
   "source": [
    "# 進行【航空公司】頻率編碼\n",
    "freq = df['airline'].value_counts(normalize=True)\n",
    "df['airline_freq'] = df['airline'].map(freq)\n",
    "\n",
    "# 進行【出發機場】頻率編碼\n",
    "freq = df['airport_depa'].value_counts(normalize=True)\n",
    "df['airport_depa_freq'] = df['airport_depa'].map(freq)\n",
    "\n",
    "# 進行【抵達機場】頻率編碼\n",
    "freq = df['airport_dest'].value_counts(normalize=True)\n",
    "df['airport_dest_freq'] = df['airport_dest'].map(freq)\n",
    "\n",
    "# 【延誤時長】轉整數\n",
    "df['delay_dest'] = df['delay_dest'].astype(int)\n",
    "\n",
    "# 【飛行時長】轉整數\n",
    "df['actu_duration'] = df['actu_duration'].astype(int)\n",
    "\n",
    "# 【風速】轉整數\n",
    "df['wind_speed_dest'] = df['wind_speed_dest'].astype(int)\n",
    "\n",
    "# 【能見度】轉整數\n",
    "df['visibility_dest'] = df['visibility_dest'].astype(int)\n",
    "\n",
    "# 【氣壓】轉小數後2位\n",
    "df['pressure_dest'] = df['pressure_dest'].round(2)"
   ]
  },
  {
   "cell_type": "code",
   "execution_count": 5,
   "metadata": {},
   "outputs": [],
   "source": [
    "# # 取得頻率編碼表\n",
    "# df_airline = df[['airline', 'airline_freq']]\n",
    "# df_airline = df_airline.drop_duplicates(subset=['airline_freq'], keep='first')\n",
    "# df_airline = df_airline.sort_values(by='airline_freq').reset_index(drop=True)\n",
    "# airline_freq = {k:v for k, v in zip(df_airline.iloc[:, 0], df_airline.iloc[:, 1])}\n",
    "\n",
    "# df_airport_depa = df[['airport_depa', 'airport_depa_freq']]\n",
    "# df_airport_depa = df_airport_depa.drop_duplicates(subset=['airport_depa_freq'], keep='first')\n",
    "# df_airport_depa = df_airport_depa.sort_values(by='airport_depa_freq').reset_index(drop=True)\n",
    "# airport_depa_freq = {k:v for k, v in zip(df_airport_depa.iloc[:, 0], df_airport_depa.iloc[:, 1])}\n",
    "\n",
    "# df_airport_dest = df[['airport_dest', 'airport_dest_freq']]\n",
    "# df_airport_dest = df_airport_dest.drop_duplicates(subset=['airport_dest_freq'], keep='first')\n",
    "# df_airport_dest = df_airport_dest.sort_values(by='airport_dest_freq').reset_index(drop=True)\n",
    "# airport_dest_freq = {k:v for k, v in zip(df_airport_dest.iloc[:, 0], df_airport_dest.iloc[:, 1])}\n",
    "\n",
    "# # 將字典轉換為JSON格式並保存到文件中\n",
    "# with open('../json/airline_freq.json', 'w') as i:\n",
    "#     json.dump(airline_freq, i)\n",
    "# with open('../json/airport_depa_freq.json', 'w') as j:\n",
    "#     json.dump(airport_depa_freq, j)\n",
    "# with open('../json/airport_dest_freq.json', 'w') as k:\n",
    "#     json.dump(airport_dest_freq, k)"
   ]
  },
  {
   "cell_type": "code",
   "execution_count": 7,
   "metadata": {},
   "outputs": [
    {
     "name": "stdout",
     "output_type": "stream",
     "text": [
      "                     airline\n",
      "delay_dest_classes          \n",
      "0                    1093699\n",
      "1                    8062424\n",
      "2                   13269893\n",
      "3                    5073397\n",
      "4                    1243705\n",
      "5                     183741\n"
     ]
    },
    {
     "data": {
      "image/png": "[encoded data removed]",
      "text/plain": [
       "<Figure size 640x480 with 1 Axes>"
      ]
     },
     "metadata": {},
     "output_type": "display_data"
    }
   ],
   "source": [
    "# # 定義將數值欄位進行分類的方法\n",
    "# def delay_minutes_to_classes(x: float, intervals: tuple[float, ...]=(-30, -15, 0, 15, 30,)) -> int:\n",
    "#     return bisect_left(intervals, x)\n",
    "\n",
    "# # 對 delay_dest 進行分類編碼\n",
    "# df['delay_dest_classes'] = df['delay_dest'].apply(delay_minutes_to_classes)\n",
    "\n",
    "# 檢視各類別數據量\n",
    "df[['delay_dest_classes', 'airline']].groupby('delay_dest_classes').count().plot(kind='bar', rot=0)\n",
    "plt.ticklabel_format(style='plain',\n",
    "                     axis='y')\n",
    "print(df[['delay_dest_classes', 'airline']].groupby('delay_dest_classes').count())"
   ]
  },
  {
   "cell_type": "code",
   "execution_count": 7,
   "metadata": {},
   "outputs": [],
   "source": [
    "# # 測試方法是否有效\n",
    "# def test_delay_minutes_to_classes():\n",
    "#     for i, x in enumerate(np.arange(-47, 60, 15)):\n",
    "#         assert i == delay_minutes_to_classes(x)\n",
    "\n",
    "# tmp = df[\"delay_dest\"].apply(delay_minutes_to_classes)\n",
    "# pd.concat((tmp, df[\"delay_dest\"]), axis=1).head(10)\n",
    "\n",
    "# t = tmp.to_frame()\n",
    "# t[\"index\"] = range(len(t))\n",
    "# print(t.groupby(\"delay_dest\").count())\n",
    "# t.groupby(\"delay_dest\").count().plot(kind='bar', rot=0)"
   ]
  },
  {
   "cell_type": "code",
   "execution_count": 8,
   "metadata": {},
   "outputs": [
    {
     "name": "stdout",
     "output_type": "stream",
     "text": [
      "                     airline\n",
      "delay_dest_classes          \n",
      "0                    9156123\n",
      "1                   13269893\n",
      "2                    5073397\n",
      "3                    1427446\n"
     ]
    },
    {
     "data": {
      "image/png": "[encoded data removed]",
      "text/plain": [
       "<Figure size 640x480 with 1 Axes>"
      ]
     },
     "metadata": {},
     "output_type": "display_data"
    }
   ],
   "source": [
    "# 定義將數值欄位進行分類的方法\n",
    "def delay_minutes_to_classes(x: float, intervals: tuple[float, ...]=(-15, 0, 15,)) -> int:\n",
    "    return bisect_left(intervals, x)\n",
    "\n",
    "# 對 delay_dest 進行分類編碼\n",
    "df['delay_dest_classes'] = df['delay_dest'].apply(delay_minutes_to_classes)\n",
    "\n",
    "# 檢視各類別數據量\n",
    "df[['delay_dest_classes', 'airline']].groupby('delay_dest_classes').count().plot(kind='bar', rot=0)\n",
    "plt.ticklabel_format(style='plain',\n",
    "                     axis='y')\n",
    "print(df[['delay_dest_classes', 'airline']].groupby('delay_dest_classes').count())"
   ]
  },
  {
   "cell_type": "code",
   "execution_count": 9,
   "metadata": {},
   "outputs": [],
   "source": [
    "# df.to_csv('../data/BeOnTime_full.csv', index=False)\n",
    "# df.shape"
   ]
  },
  {
   "attachments": {},
   "cell_type": "markdown",
   "metadata": {},
   "source": [
    "### 增加資料量"
   ]
  },
  {
   "cell_type": "code",
   "execution_count": 10,
   "metadata": {},
   "outputs": [
    {
     "name": "stdout",
     "output_type": "stream",
     "text": [
      "                     airline\n",
      "delay_dest_classes          \n",
      "0                    9156123\n",
      "1                   13269893\n",
      "2                   10146794\n",
      "3                    9992122\n"
     ]
    },
    {
     "data": {
      "image/png": "[encoded data removed]",
      "text/plain": [
       "<Figure size 640x480 with 1 Axes>"
      ]
     },
     "metadata": {},
     "output_type": "display_data"
    }
   ],
   "source": [
    "# # 增加類別【2】的 data 量，用`loc`方法選擇符合條件的資料\n",
    "# delay_dest_classes_2 = df.loc[df['delay_dest_classes'] == 2].copy()\n",
    "# # 複製 1 倍\n",
    "# delay_dest_classes_2 = pd.concat([delay_dest_classes_2] * 1)\n",
    "# # 將複製的資料和原始DataFrame合併回同一份DataFrame中\n",
    "# df = pd.concat([df, delay_dest_classes_2], ignore_index=True)\n",
    "\n",
    "\n",
    "# # 增加類別【3】的 data 量，用`loc`方法選擇符合條件的資料\n",
    "# delay_dest_classes_3 = df.loc[df['delay_dest_classes'] == 3].copy()\n",
    "# # 複製 6 倍\n",
    "# delay_dest_classes_3 = pd.concat([delay_dest_classes_3] * 6)\n",
    "# # 將複製的資料和原始DataFrame合併回同一份DataFrame中\n",
    "# df = pd.concat([df, delay_dest_classes_3], ignore_index=True)\n",
    "\n",
    "\n",
    "# 檢視各類別數據量\n",
    "df[['delay_dest_classes', 'airline']].groupby('delay_dest_classes').count().plot(kind='bar', rot=0)\n",
    "plt.ticklabel_format(style='plain',\n",
    "                     axis='y')\n",
    "print(df[['delay_dest_classes', 'airline']].groupby('delay_dest_classes').count())"
   ]
  },
  {
   "cell_type": "code",
   "execution_count": 11,
   "metadata": {},
   "outputs": [
    {
     "data": {
      "text/plain": [
       "(42564932, 24)"
      ]
     },
     "execution_count": 11,
     "metadata": {},
     "output_type": "execute_result"
    }
   ],
   "source": [
    "# df.to_csv('../data/BeOnTime_full_addData.csv', index=False)\n",
    "# df.shape"
   ]
  },
  {
   "attachments": {},
   "cell_type": "markdown",
   "metadata": {},
   "source": [
    "### 切分 train、val、test (每個類別都平均切分)"
   ]
  },
  {
   "cell_type": "code",
   "execution_count": 11,
   "metadata": {},
   "outputs": [],
   "source": [
    "# # 將類別進行排序\n",
    "# sorted_data = df.sort_values('delay_dest_classes')\n",
    "# # 根據類別欄位進行分組\n",
    "# grouped_data = sorted_data.groupby('delay_dest_classes')\n",
    "\n",
    "\n",
    "# # 計算每個類別的樣本數\n",
    "# counts = grouped_data.size()\n",
    "# # 計算總樣本數\n",
    "# total_count = counts.sum()\n",
    "# # 計算訓練集應該包含的樣本數\n",
    "# train_count = int(total_count * 0.6)\n",
    "# # 計算驗證集應該包含的樣本數\n",
    "# val_count = int(total_count * 0.2)\n",
    "# # 計算測試集應該包含的樣本數\n",
    "# test_count = total_count - train_count - val_count\n",
    "\n",
    "\n",
    "# # 隨機分配樣本到訓練集、驗證集和測試集中\n",
    "# train_data = pd.DataFrame()\n",
    "# val_data = pd.DataFrame()\n",
    "# test_data = pd.DataFrame()\n",
    "# for name, group in grouped_data:\n",
    "#     # 從每個類別的子資料集中隨機取出樣本\n",
    "#     train_sample = group.sample(n=train_count, replace=True)\n",
    "#     # 使用了 `replace=True 的參數，以保證每個類別在訓練集、驗證集和測試集中的樣本數是相等的。當某個類別的樣本數不足時，replace=True` 會允許重複取樣本，直到達到指定的數量。\n",
    "#     val_sample = group.drop(train_sample.index).sample(n=val_count, replace=True)\n",
    "#     test_sample = group.drop(train_sample.index).drop(val_sample.index)\n",
    "#     # 將取出的樣本合併到對應的資料集中\n",
    "#     train_data = pd.concat([train_data, train_sample])\n",
    "#     val_data = pd.concat([val_data, val_sample])\n",
    "#     test_data = pd.concat([test_data, test_sample])\n",
    "\n",
    "\n",
    "# train_data.to_csv('../data/BeOnTime_train_weight.csv', index=False)\n",
    "# val_data.to_csv('../data/BeOnTime_val_weight.csv', index=False)\n",
    "# test_data.to_csv('../data/BeOnTime_test_weight.csv', index=False)"
   ]
  }
 ],
 "metadata": {
  "kernelspec": {
   "display_name": "base",
   "language": "python",
   "name": "python3"
  },
  "language_info": {
   "codemirror_mode": {
    "name": "ipython",
    "version": 3
   },
   "file_extension": ".py",
   "mimetype": "text/x-python",
   "name": "python",
   "nbconvert_exporter": "python",
   "pygments_lexer": "ipython3",
   "version": "3.10.9"
  },
  "orig_nbformat": 4
 },
 "nbformat": 4,
 "nbformat_minor": 2
}

{
 "cells": [
  {
   "cell_type": "code",
   "execution_count": 11,
   "metadata": {},
   "outputs": [],
   "source": [
    "'''使用 pandas 讀檔'''\n",
    "import pandas as pd\n",
    "# 天氣資訊\n",
    "df_weather = pd.read_csv(\"C:\\\\Share\\\\BDSE_project\\\\02_fp_data_weather5\\\\weather_info.csv\")\n",
    "# 航班資訊\n",
    "df_flight = pd.read_csv(\"C:\\\\Share\\\\BDSE_project\\\\flight.csv\")"
   ]
  },
  {
   "cell_type": "code",
   "execution_count": 12,
   "metadata": {},
   "outputs": [
    {
     "data": {
      "text/plain": [
       "2020    3626429\n",
       "2021    3614835\n",
       "2022    3614137\n",
       "2019    3613479\n",
       "2018    3611934\n",
       "2017    3610293\n",
       "2023     639624\n",
       "Name: date_year, dtype: int64"
      ]
     },
     "execution_count": 12,
     "metadata": {},
     "output_type": "execute_result"
    }
   ],
   "source": [
    "# 每年的天氣資訊量\n",
    "df[\"date_year\"].value_counts()"
   ]
  },
  {
   "cell_type": "code",
   "execution_count": 14,
   "metadata": {},
   "outputs": [
    {
     "data": {
      "text/plain": [
       "ATL    1974390\n",
       "ORD    1548910\n",
       "DFW    1459822\n",
       "DEN    1274549\n",
       "LAX    1128754\n",
       "        ...   \n",
       "FLO        113\n",
       "IPT         71\n",
       "UST         66\n",
       "YNG          2\n",
       "TKI          1\n",
       "Name: Departure airport, Length: 384, dtype: int64"
      ]
     },
     "execution_count": 14,
     "metadata": {},
     "output_type": "execute_result"
    }
   ],
   "source": [
    "# 各個航空公司6年來的航班量\n",
    "df_flight[\"Departure airport\"].value_counts()"
   ]
  }
 ],
 "metadata": {
  "kernelspec": {
   "display_name": "base",
   "language": "python",
   "name": "python3"
  },
  "language_info": {
   "codemirror_mode": {
    "name": "ipython",
    "version": 3
   },
   "file_extension": ".py",
   "mimetype": "text/x-python",
   "name": "python",
   "nbconvert_exporter": "python",
   "pygments_lexer": "ipython3",
   "version": "3.9.13"
  },
  "orig_nbformat": 4
 },
 "nbformat": 4,
 "nbformat_minor": 2
}

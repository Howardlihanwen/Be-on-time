{
 "cells": [
  {
   "cell_type": "code",
   "execution_count": null,
   "metadata": {},
   "outputs": [],
   "source": [
    "'''目標：計算 JSON 元素總數'''\n",
    "import os\n",
    "import json\n",
    "\n",
    "# 設定要讀取的資料夾路徑\n",
    "folder_path = \"C:/order_json/\"\n",
    "\n",
    "# 建立一個空的 list 來存儲讀取的 JSON 檔案中的元素\n",
    "json_elements = []\n",
    "\n",
    "# 遍歷資料夾中的所有檔案\n",
    "for filename in os.listdir(folder_path):\n",
    "    # 如果檔案是 JSON 檔案，則讀取它的內容，並添加到 json_elements 中\n",
    "    if filename.endswith('.json'):\n",
    "        with open(os.path.join(folder_path, filename), 'r') as f:\n",
    "            json_data = json.load(f)\n",
    "            json_elements += json_data\n",
    "\n",
    "# 計算 json_elements 中元素的數量\n",
    "count = len(json_elements)\n",
    "\n",
    "# 輸出計數結果\n",
    "print(f\"共讀取了 {len(os.listdir(folder_path))} 個 JSON 檔案\")\n",
    "print(f\"共計 {count} 個元素\")\n"
   ]
  }
 ],
 "metadata": {
  "language_info": {
   "name": "python"
  },
  "orig_nbformat": 4
 },
 "nbformat": 4,
 "nbformat_minor": 2
}

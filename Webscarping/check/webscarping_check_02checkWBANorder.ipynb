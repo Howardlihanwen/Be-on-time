{
 "cells": [
  {
   "cell_type": "code",
   "execution_count": null,
   "metadata": {},
   "outputs": [],
   "source": [
    "'''check觀測站是否重覆下Order'''\n",
    "import os\n",
    "import pandas as pd\n",
    "import json\n",
    "\n",
    "# 指定資料夾路徑\n",
    "folder_path = 'C:/Share/BDSE_project/raw_data_weather/'\n",
    "\n",
    "# 取得資料夾中所有 CSV 檔案的檔名\n",
    "csv_files = [f for f in os.listdir(folder_path) if f.endswith('.csv')]\n",
    "\n",
    "# 新資料夾路徑\n",
    "new_folder_path = 'C:/Share/BDSE_project/testweather'\n",
    "\n",
    "# 如果新資料夾不存在，則建立它\n",
    "if not os.path.exists(new_folder_path):\n",
    "    os.makedirs(new_folder_path)\n",
    "\n",
    "orderNum_WBAN = []    \n",
    "    \n",
    "# 逐一處理每一個 CSV 檔案\n",
    "for file in csv_files:\n",
    "    # 讀取 CSV 檔案\n",
    "    df = pd.read_csv(os.path.join(folder_path, file))\n",
    "    \n",
    "    # 取得檔案中 A2 儲存格的資料，並且取後五個字元\n",
    "    cell_data = str(df.iloc[1, 0])[-5:]\n",
    "    \n",
    "    orderNum_WBAN += [[file,cell_data]]\n",
    "    "
   ]
  },
  {
   "cell_type": "code",
   "execution_count": null,
   "metadata": {},
   "outputs": [],
   "source": [
    "import json\n",
    "'''JSON 轉換'''\n",
    "with open(f\"{new_folder_path}/check.json\", \"w\", encoding=\"utf-8\") as file:\n",
    "    file.write( json.dumps(orderNum_WBAN, ensure_ascii=False) )"
   ]
  }
 ],
 "metadata": {
  "kernelspec": {
   "display_name": "Python 3 (ipykernel)",
   "language": "python",
   "name": "python3"
  },
  "language_info": {
   "codemirror_mode": {
    "name": "ipython",
    "version": 3
   },
   "file_extension": ".py",
   "mimetype": "text/x-python",
   "name": "python",
   "nbconvert_exporter": "python",
   "pygments_lexer": "ipython3",
   "version": "3.9.13"
  }
 },
 "nbformat": 4,
 "nbformat_minor": 2
}
